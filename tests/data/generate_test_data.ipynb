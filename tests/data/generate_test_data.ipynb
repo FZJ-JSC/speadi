{
 "cells": [
  {
   "cell_type": "markdown",
   "metadata": {
    "pycharm": {
     "name": "#%% md\n"
    }
   },
   "source": [
    "# Generation of analysis data for tests"
   ]
  },
  {
   "cell_type": "code",
   "execution_count": 3,
   "outputs": [
    {
     "name": "stdout",
     "output_type": "stream",
     "text": [
      "Numba version  0.55.0  detected. MDEnvironment will default to optimization using Numba.\n",
      "\n",
      "Numba currently using 2 threads with shared memory! Reduce this number by passing \"numba.set_num_threads(x)\" with an appropriate integer value.\n",
      "\n"
     ]
    },
    {
     "name": "stderr",
     "output_type": "stream",
     "text": [
      "/opt/homebrew/anaconda3/envs/MDEnvironment/lib/python3.9/site-packages/numba/core/lowering.py:104: NumbaWarning: \u001B[1mCould not find source for function: <function __numba_parfor_gufunc_0x19272fe50 at 0x1927425e0>\u001B[0m\n",
      "  warnings.warn(NumbaWarning(msg))\n",
      "/opt/homebrew/anaconda3/envs/MDEnvironment/lib/python3.9/site-packages/numba/core/lowering.py:104: NumbaWarning: \u001B[1mCould not find source for function: <function __numba_parfor_gufunc_0x190a73610 at 0x19274f700>\u001B[0m\n",
      "  warnings.warn(NumbaWarning(msg))\n",
      "/opt/homebrew/anaconda3/envs/MDEnvironment/lib/python3.9/site-packages/numba/core/lowering.py:104: NumbaWarning: \u001B[1mCould not find source for function: <function __numba_parfor_gufunc_0x19273cac0 at 0x192b6f820>\u001B[0m\n",
      "  warnings.warn(NumbaWarning(msg))\n",
      "/opt/homebrew/anaconda3/envs/MDEnvironment/lib/python3.9/site-packages/numba/core/lowering.py:104: NumbaWarning: \u001B[1mCould not find source for function: <function __numba_parfor_gufunc_0x19273dc10 at 0x192b6ff70>\u001B[0m\n",
      "  warnings.warn(NumbaWarning(msg))\n",
      "/opt/homebrew/anaconda3/envs/MDEnvironment/lib/python3.9/site-packages/numba/core/lowering.py:104: NumbaWarning: \u001B[1mCould not find source for function: <function __numba_parfor_gufunc_0x1925d6b80 at 0x192bb9b80>\u001B[0m\n",
      "  warnings.warn(NumbaWarning(msg))\n",
      "/opt/homebrew/anaconda3/envs/MDEnvironment/lib/python3.9/site-packages/numba/core/lowering.py:104: NumbaWarning: \u001B[1mCould not find source for function: <function __numba_parfor_gufunc_0x192b5e6d0 at 0x192fef8b0>\u001B[0m\n",
      "  warnings.warn(NumbaWarning(msg))\n",
      "/opt/homebrew/anaconda3/envs/MDEnvironment/lib/python3.9/site-packages/numba/core/lowering.py:104: NumbaWarning: \u001B[1mCould not find source for function: <function __numba_parfor_gufunc_0x192b3b190 at 0x192aec700>\u001B[0m\n",
      "  warnings.warn(NumbaWarning(msg))\n",
      "/opt/homebrew/anaconda3/envs/MDEnvironment/lib/python3.9/site-packages/numba/core/lowering.py:104: NumbaWarning: \u001B[1mCould not find source for function: <function __numba_parfor_gufunc_0x192c29d90 at 0x1935e18b0>\u001B[0m\n",
      "  warnings.warn(NumbaWarning(msg))\n",
      "/opt/homebrew/anaconda3/envs/MDEnvironment/lib/python3.9/site-packages/numba/core/lowering.py:104: NumbaWarning: \u001B[1mCould not find source for function: <function __numba_parfor_gufunc_0x193ca7940 at 0x193c441f0>\u001B[0m\n",
      "  warnings.warn(NumbaWarning(msg))\n",
      "/opt/homebrew/anaconda3/envs/MDEnvironment/lib/python3.9/site-packages/numba/core/lowering.py:104: NumbaWarning: \u001B[1mCould not find source for function: <function __numba_parfor_gufunc_0x192678ac0 at 0x1925e70d0>\u001B[0m\n",
      "  warnings.warn(NumbaWarning(msg))\n",
      "/opt/homebrew/anaconda3/envs/MDEnvironment/lib/python3.9/site-packages/numba/core/lowering.py:104: NumbaWarning: \u001B[1mCould not find source for function: <function __numba_parfor_gufunc_0x193424040 at 0x1937b7430>\u001B[0m\n",
      "  warnings.warn(NumbaWarning(msg))\n"
     ]
    },
    {
     "name": "stdout",
     "output_type": "stream",
     "text": [
      "GROMACS version used to generate data: 2021.5-Homebrew\n",
      "MDTraj version used to generate data: 1.9.7\n",
      "MDEnvironment version used to run this notebook: 0.0.1\n"
     ]
    }
   ],
   "source": [
    "from numba import set_num_threads\n",
    "set_num_threads(2)\n",
    "\n",
    "import gromacs\n",
    "import mdtraj as md\n",
    "import mdenvironment as mde\n",
    "\n",
    "print(f'GROMACS version used to generate data: {gromacs.release}')\n",
    "print(f'MDTraj version used to generate data: {md.version.full_version}')\n",
    "print(f'MDEnvironment version used to run this notebook: {mde.__version__}')"
   ],
   "metadata": {
    "collapsed": false,
    "pycharm": {
     "name": "#%%\n"
    }
   }
  },
  {
   "cell_type": "code",
   "execution_count": 4,
   "outputs": [],
   "source": [
    "infiles = 'nacl_box'\n",
    "refs = ['O', 'NA', 'CL']\n",
    "sel = 'O'\n",
    "n_bins = 120\n",
    "r_max = 1.2  # 1.2 nm\n",
    "bin_width = r_max / n_bins\n",
    "gmx_rmax = r_max + bin_width / 2"
   ],
   "metadata": {
    "collapsed": false,
    "pycharm": {
     "name": "#%%\n"
    }
   }
  },
  {
   "cell_type": "code",
   "execution_count": 5,
   "outputs": [],
   "source": [
    "run = {\n",
    "    'GROMACS': False,\n",
    "    'MDTraj': False,\n",
    "    'MDEnvironment': True\n",
    "}"
   ],
   "metadata": {
    "collapsed": false,
    "pycharm": {
     "name": "#%%\n"
    }
   }
  },
  {
   "cell_type": "markdown",
   "source": [
    "## GROMACS RDF\n",
    "\n",
    "Run the following command in GROMACS (but here using the GROMACS-wrapper):\n",
    "\n",
    "```bash\n",
    "gmx rdf -f nacl_box -s nacl_box -n nacl_box -o rdf.xvg -ref <reference_group> -sel <selection_group>\n",
    "```"
   ],
   "metadata": {
    "collapsed": false,
    "pycharm": {
     "name": "#%% md\n"
    }
   }
  },
  {
   "cell_type": "code",
   "source": [
    "if run['GROMACS']:\n",
    "    import gromacs\n",
    "    for ref in refs:\n",
    "        %time gromacs.g_rdf('nobackup', f=infiles, s=infiles, n=infiles, ref=ref, sel=sel,\\\n",
    "                o=f'{ref}_rdf.xvg', cut=bin_width/2, rmax=gmx_rmax, bin=bin_width)"
   ],
   "metadata": {
    "collapsed": false,
    "pycharm": {
     "name": "#%%\n"
    }
   },
   "execution_count": 6,
   "outputs": []
  },
  {
   "cell_type": "code",
   "execution_count": 7,
   "outputs": [
    {
     "data": {
      "text/plain": "          O-O   NA-O   CL-O\nr (nm)                     \n0.00    0.000  0.000  0.000\n0.01    0.000  0.000  0.000\n0.02    0.000  0.000  0.000\n0.03    0.000  0.000  0.000\n0.04    0.000  0.000  0.000\n...       ...    ...    ...\n1.16    1.005  1.041  0.964\n1.17    1.003  1.016  0.995\n1.18    1.003  1.051  1.011\n1.19    1.001  1.042  0.994\n1.20    1.003  1.056  1.010\n\n[121 rows x 3 columns]",
      "text/html": "<div>\n<style scoped>\n    .dataframe tbody tr th:only-of-type {\n        vertical-align: middle;\n    }\n\n    .dataframe tbody tr th {\n        vertical-align: top;\n    }\n\n    .dataframe thead th {\n        text-align: right;\n    }\n</style>\n<table border=\"1\" class=\"dataframe\">\n  <thead>\n    <tr style=\"text-align: right;\">\n      <th></th>\n      <th>O-O</th>\n      <th>NA-O</th>\n      <th>CL-O</th>\n    </tr>\n    <tr>\n      <th>r (nm)</th>\n      <th></th>\n      <th></th>\n      <th></th>\n    </tr>\n  </thead>\n  <tbody>\n    <tr>\n      <th>0.00</th>\n      <td>0.000</td>\n      <td>0.000</td>\n      <td>0.000</td>\n    </tr>\n    <tr>\n      <th>0.01</th>\n      <td>0.000</td>\n      <td>0.000</td>\n      <td>0.000</td>\n    </tr>\n    <tr>\n      <th>0.02</th>\n      <td>0.000</td>\n      <td>0.000</td>\n      <td>0.000</td>\n    </tr>\n    <tr>\n      <th>0.03</th>\n      <td>0.000</td>\n      <td>0.000</td>\n      <td>0.000</td>\n    </tr>\n    <tr>\n      <th>0.04</th>\n      <td>0.000</td>\n      <td>0.000</td>\n      <td>0.000</td>\n    </tr>\n    <tr>\n      <th>...</th>\n      <td>...</td>\n      <td>...</td>\n      <td>...</td>\n    </tr>\n    <tr>\n      <th>1.16</th>\n      <td>1.005</td>\n      <td>1.041</td>\n      <td>0.964</td>\n    </tr>\n    <tr>\n      <th>1.17</th>\n      <td>1.003</td>\n      <td>1.016</td>\n      <td>0.995</td>\n    </tr>\n    <tr>\n      <th>1.18</th>\n      <td>1.003</td>\n      <td>1.051</td>\n      <td>1.011</td>\n    </tr>\n    <tr>\n      <th>1.19</th>\n      <td>1.001</td>\n      <td>1.042</td>\n      <td>0.994</td>\n    </tr>\n    <tr>\n      <th>1.20</th>\n      <td>1.003</td>\n      <td>1.056</td>\n      <td>1.010</td>\n    </tr>\n  </tbody>\n</table>\n<p>121 rows × 3 columns</p>\n</div>"
     },
     "execution_count": 7,
     "metadata": {},
     "output_type": "execute_result"
    }
   ],
   "source": [
    "from gromacs.formats import XVG\n",
    "import pandas as pd\n",
    "\n",
    "gmx_rdfs = []\n",
    "for ref in refs:\n",
    "    rdf_df = XVG(f'{ref}_rdf.xvg').to_df()\n",
    "    rdf_df.rename(columns={sel: f'{ref}-{sel}'}, inplace=True)\n",
    "    rdf_df.set_index('r (nm)', inplace=True)\n",
    "    gmx_rdfs.append(rdf_df)\n",
    "\n",
    "gmx_rdf = pd.concat(gmx_rdfs, axis=1)\n",
    "gmx_rdf"
   ],
   "metadata": {
    "collapsed": false,
    "pycharm": {
     "name": "#%%\n"
    }
   }
  },
  {
   "cell_type": "code",
   "execution_count": 8,
   "outputs": [],
   "source": [
    "import numpy as np\n",
    "\n",
    "gmx_rdf = {\n",
    "    ref: np.loadtxt(f'{ref}_rdf.xvg', comments=['#', '@'], unpack=True) for ref in refs\n",
    "}\n",
    "\n",
    "gmx_r = {\n",
    "    ref: gmx_rdf[ref][0] for ref in refs\n",
    "}\n",
    "\n",
    "gmx_gr = {\n",
    "    ref: gmx_rdf[ref][1] for ref in refs\n",
    "}"
   ],
   "metadata": {
    "collapsed": false,
    "pycharm": {
     "name": "#%%\n"
    }
   }
  },
  {
   "cell_type": "markdown",
   "source": [
    "## RDF using MDTraj\n"
   ],
   "metadata": {
    "collapsed": false,
    "pycharm": {
     "name": "#%% md\n"
    }
   }
  },
  {
   "cell_type": "code",
   "source": [
    "if run['MDTraj'] or run['MDEnvironment']:\n",
    "    import mdtraj as md\n",
    "\n",
    "    top = md.load_topology('nacl_box.gro')\n",
    "    traj = md.load('nacl_box.xtc', top=top)\n",
    "    # groups = {g: traj.top.select(f'name {g}') for g in ['O', 'NA', 'CL', 'H']}\n",
    "    groups = {g: traj.top.select(f'name {g}') for g in ['O', 'NA', 'CL']}\n",
    "\n",
    "    pairs = {}\n",
    "    for ref in refs:\n",
    "        pairs[ref] = traj.top.select_pairs(groups[ref], groups[sel])"
   ],
   "metadata": {
    "collapsed": false,
    "pycharm": {
     "name": "#%%\n"
    }
   },
   "execution_count": 9,
   "outputs": []
  },
  {
   "cell_type": "code",
   "execution_count": 10,
   "outputs": [],
   "source": [
    "import numpy as np\n",
    "\n",
    "mdtraj_r = {}\n",
    "mdtraj_gr = {}\n",
    "if run['MDTraj']:\n",
    "    for ref in refs:\n",
    "        %time r, gr = md.compute_rdf(traj, pairs=pairs[ref], periodic=True, opt=True, n_bins=n_bins,\\\n",
    "                r_range=(0, r_max))\n",
    "        np.savetxt(f'{ref}_mdtraj_r.txt', r)\n",
    "        np.savetxt(f'{ref}_mdtraj_gr.txt', gr)\n",
    "        mdtraj_r[ref] = r\n",
    "        mdtraj_gr[ref] = gr\n",
    "\n",
    "else:\n",
    "    for ref in refs:\n",
    "        mdtraj_r[ref] = np.loadtxt(f'{ref}_mdtraj_r.txt')\n",
    "        mdtraj_gr[ref] = np.loadtxt(f'{ref}_mdtraj_gr.txt')"
   ],
   "metadata": {
    "collapsed": false,
    "pycharm": {
     "name": "#%%\n"
    }
   }
  },
  {
   "cell_type": "markdown",
   "source": [
    "## RDF from MDEnvironment using the `grt` time-resolved RDF method\n",
    "We'll just average over the time windows to give us the same result as the static RDF over the whole trajectory."
   ],
   "metadata": {
    "collapsed": false,
    "pycharm": {
     "name": "#%% md\n"
    }
   }
  },
  {
   "cell_type": "code",
   "execution_count": 14,
   "outputs": [
    {
     "name": "stderr",
     "output_type": "stream",
     "text": [
      "Progress over trajectory:   0%|          | 0/10 [00:00<?, ?it/s]/Users/emiledebruyn/ownCloud/darbeit/MDEnvironment/mdenvironment/time_resolved_rdf/jit/add_distribution_function_time_slice.py:7: NumbaWarning: \u001B[1m\n",
      "Compilation is falling back to object mode WITH looplifting enabled because Function \"_jit_append_grts_ortho_mic\" failed type inference due to: \u001B[1m\u001B[1m\u001B[1mInvalid use of type(CPUDispatcher(<function _compute_grt_numba at 0x18f7f41f0>)) with parameters (array(float32, 3d, A), array(float32, 1d, C), UniTuple(float64 x 2), int64, bool)\n",
      "\u001B[0m\n",
      "\u001B[0m\u001B[1mDuring: resolving callee type: type(CPUDispatcher(<function _compute_grt_numba at 0x18f7f41f0>))\u001B[0m\n",
      "\u001B[0m\u001B[1mDuring: typing of call at /Users/emiledebruyn/ownCloud/darbeit/MDEnvironment/mdenvironment/time_resolved_rdf/jit/add_distribution_function_time_slice.py (12)\n",
      "\u001B[0m\n",
      "\u001B[1m\n",
      "File \"../../mdenvironment/time_resolved_rdf/jit/add_distribution_function_time_slice.py\", line 12:\u001B[0m\n",
      "\u001B[1mdef _jit_append_grts_ortho_mic(g_rts, n, xyz, g1, g2, g1_lens, g2_lens, cuvec, cuvol, r_range, nbins, raw_counts):\n",
      "    <source elided>\n",
      "            rt_array = _compute_rt_ortho_mic(xyz, g1[i][:g1_lens[i]], g2[j][:g2_lens[j]], cuvec)\n",
      "\u001B[1m            g_rts[i, j, n] += _compute_grt_numba(rt_array, cuvol, r_range, nbins, raw_counts)\n",
      "\u001B[0m            \u001B[1m^\u001B[0m\u001B[0m\n",
      "\u001B[0m\n",
      "  @jit(cache=True)\n",
      "/Users/emiledebruyn/ownCloud/darbeit/MDEnvironment/mdenvironment/time_resolved_rdf/jit/add_distribution_function_time_slice.py:7: NumbaWarning: \u001B[1m\n",
      "Compilation is falling back to object mode WITHOUT looplifting enabled because Function \"_jit_append_grts_ortho_mic\" failed type inference due to: \u001B[1m\u001B[1mCannot determine Numba type of <class 'numba.core.dispatcher.LiftedLoop'>\u001B[0m\n",
      "\u001B[1m\n",
      "File \"../../mdenvironment/time_resolved_rdf/jit/add_distribution_function_time_slice.py\", line 9:\u001B[0m\n",
      "\u001B[1mdef _jit_append_grts_ortho_mic(g_rts, n, xyz, g1, g2, g1_lens, g2_lens, cuvec, cuvol, r_range, nbins, raw_counts):\n",
      "\u001B[1m    for i in prange(g1.shape[0]):\n",
      "\u001B[0m    \u001B[1m^\u001B[0m\u001B[0m\n",
      "\u001B[0m\u001B[0m\n",
      "  @jit(cache=True)\n",
      "/opt/homebrew/anaconda3/envs/MDEnvironment/lib/python3.9/site-packages/numba/core/object_mode_passes.py:151: NumbaWarning: \u001B[1mFunction \"_jit_append_grts_ortho_mic\" was compiled in object mode without forceobj=True, but has lifted loops.\n",
      "\u001B[1m\n",
      "File \"../../mdenvironment/time_resolved_rdf/jit/add_distribution_function_time_slice.py\", line 9:\u001B[0m\n",
      "\u001B[1mdef _jit_append_grts_ortho_mic(g_rts, n, xyz, g1, g2, g1_lens, g2_lens, cuvec, cuvol, r_range, nbins, raw_counts):\n",
      "\u001B[1m    for i in prange(g1.shape[0]):\n",
      "\u001B[0m    \u001B[1m^\u001B[0m\u001B[0m\n",
      "\u001B[0m\n",
      "  warnings.warn(errors.NumbaWarning(warn_msg,\n",
      "/opt/homebrew/anaconda3/envs/MDEnvironment/lib/python3.9/site-packages/numba/core/object_mode_passes.py:161: NumbaDeprecationWarning: \u001B[1m\n",
      "Fall-back from the nopython compilation path to the object mode compilation path has been detected, this is deprecated behaviour.\n",
      "\n",
      "For more information visit https://numba.pydata.org/numba-doc/latest/reference/deprecation.html#deprecation-of-object-mode-fall-back-behaviour-when-using-jit\n",
      "\u001B[1m\n",
      "File \"../../mdenvironment/time_resolved_rdf/jit/add_distribution_function_time_slice.py\", line 9:\u001B[0m\n",
      "\u001B[1mdef _jit_append_grts_ortho_mic(g_rts, n, xyz, g1, g2, g1_lens, g2_lens, cuvec, cuvol, r_range, nbins, raw_counts):\n",
      "\u001B[1m    for i in prange(g1.shape[0]):\n",
      "\u001B[0m    \u001B[1m^\u001B[0m\u001B[0m\n",
      "\u001B[0m\n",
      "  warnings.warn(errors.NumbaDeprecationWarning(msg,\n",
      "/Users/emiledebruyn/ownCloud/darbeit/MDEnvironment/mdenvironment/time_resolved_rdf/jit/add_distribution_function_time_slice.py:7: NumbaWarning: \u001B[1mCannot cache compiled function \"_jit_append_grts_ortho_mic\" as it uses lifted code\u001B[0m\n",
      "  @jit(cache=True)\n",
      "/Users/emiledebruyn/ownCloud/darbeit/MDEnvironment/mdenvironment/time_resolved_rdf/jit/add_distribution_function_time_slice.py:7: NumbaWarning: \u001B[1m\n",
      "Compilation is falling back to object mode WITHOUT looplifting enabled because Function \"_jit_append_grts_ortho_mic\" failed type inference due to: \u001B[1m\u001B[1mnon-precise type pyobject\u001B[0m\n",
      "\u001B[0m\u001B[1mDuring: typing of argument at /Users/emiledebruyn/ownCloud/darbeit/MDEnvironment/mdenvironment/time_resolved_rdf/jit/add_distribution_function_time_slice.py (9)\u001B[0m\n",
      "\u001B[1m\n",
      "File \"../../mdenvironment/time_resolved_rdf/jit/add_distribution_function_time_slice.py\", line 9:\u001B[0m\n",
      "\u001B[1mdef _jit_append_grts_ortho_mic(g_rts, n, xyz, g1, g2, g1_lens, g2_lens, cuvec, cuvol, r_range, nbins, raw_counts):\n",
      "\u001B[1m    for i in prange(g1.shape[0]):\n",
      "\u001B[0m    \u001B[1m^\u001B[0m\u001B[0m\n",
      "\u001B[0m\n",
      "  @jit(cache=True)\n",
      "/opt/homebrew/anaconda3/envs/MDEnvironment/lib/python3.9/site-packages/numba/core/object_mode_passes.py:151: NumbaWarning: \u001B[1mFunction \"_jit_append_grts_ortho_mic\" was compiled in object mode without forceobj=True.\n",
      "\u001B[1m\n",
      "File \"../../mdenvironment/time_resolved_rdf/jit/add_distribution_function_time_slice.py\", line 9:\u001B[0m\n",
      "\u001B[1mdef _jit_append_grts_ortho_mic(g_rts, n, xyz, g1, g2, g1_lens, g2_lens, cuvec, cuvol, r_range, nbins, raw_counts):\n",
      "\u001B[1m    for i in prange(g1.shape[0]):\n",
      "\u001B[0m    \u001B[1m^\u001B[0m\u001B[0m\n",
      "\u001B[0m\n",
      "  warnings.warn(errors.NumbaWarning(warn_msg,\n",
      "/opt/homebrew/anaconda3/envs/MDEnvironment/lib/python3.9/site-packages/numba/core/object_mode_passes.py:161: NumbaDeprecationWarning: \u001B[1m\n",
      "Fall-back from the nopython compilation path to the object mode compilation path has been detected, this is deprecated behaviour.\n",
      "\n",
      "For more information visit https://numba.pydata.org/numba-doc/latest/reference/deprecation.html#deprecation-of-object-mode-fall-back-behaviour-when-using-jit\n",
      "\u001B[1m\n",
      "File \"../../mdenvironment/time_resolved_rdf/jit/add_distribution_function_time_slice.py\", line 9:\u001B[0m\n",
      "\u001B[1mdef _jit_append_grts_ortho_mic(g_rts, n, xyz, g1, g2, g1_lens, g2_lens, cuvec, cuvol, r_range, nbins, raw_counts):\n",
      "\u001B[1m    for i in prange(g1.shape[0]):\n",
      "\u001B[0m    \u001B[1m^\u001B[0m\u001B[0m\n",
      "\u001B[0m\n",
      "  warnings.warn(errors.NumbaDeprecationWarning(msg,\n",
      "Progress over trajectory: 100%|██████████| 10/10 [00:12<00:00,  1.23s/it]\n",
      "Progress over trajectory: 100%|██████████| 10/10 [00:00<00:00, 134.89it/s]\n",
      "Progress over trajectory: 100%|██████████| 10/10 [00:00<00:00, 137.46it/s]\n"
     ]
    }
   ],
   "source": [
    "mdenv_r_ortho = {}\n",
    "mdenv_gr_ortho = {}\n",
    "if run['MDEnvironment']:\n",
    "    from numba import set_num_threads\n",
    "    set_num_threads(2)\n",
    "    import mdenvironment as mde\n",
    "\n",
    "    for ref in refs:\n",
    "        r, grt = mde.trrdf('nacl_box.xtc', groups[ref], groups[sel], pbc='ortho', opt=True, top=top,\n",
    "                         n_windows=10, window_size=20, stride=1, skip=0, r_range=(0.0, r_max), nbins=n_bins)\n",
    "\n",
    "        np.savetxt(f'{ref}_mdenv_r.txt', r)\n",
    "        gr = grt.mean(axis=(0,1,2))\n",
    "        np.savetxt(f'{ref}_mdenv_gr.txt', gr)\n",
    "        mdenv_r_ortho[ref] = r\n",
    "        mdenv_gr_ortho[ref] = gr\n",
    "\n",
    "else:\n",
    "    for ref in refs:\n",
    "        mdenv_r_ortho[ref] = np.loadtxt(f'{ref}_mdenv_r.txt')\n",
    "        mdenv_gr_ortho[ref] = np.loadtxt(f'{ref}_mdenv_gr.txt')"
   ],
   "metadata": {
    "collapsed": false,
    "pycharm": {
     "name": "#%%\n"
    }
   }
  },
  {
   "cell_type": "code",
   "source": [
    "mdenv_r_gen = {}\n",
    "mdenv_gr_gen = {}\n",
    "if run['MDEnvironment']:\n",
    "    from numba import set_num_threads\n",
    "    set_num_threads(2)\n",
    "    import mdenvironment as mde\n",
    "\n",
    "    for ref in refs:\n",
    "        r, grt = mde.trrdf('nacl_box.xtc', groups[ref], groups[sel], pbc='general', opt=True, top=top,\n",
    "                         n_windows=10, window_size=20, stride=1, skip=0, r_range=(0.0, r_max), nbins=n_bins)\n",
    "\n",
    "        np.savetxt(f'{ref}_mdenv_r.txt', r)\n",
    "        gr = grt.mean(axis=(0,1,2))\n",
    "        np.savetxt(f'{ref}_mdenv_gr.txt', gr)\n",
    "        mdenv_r_gen[ref] = r\n",
    "        mdenv_gr_gen[ref] = gr\n",
    "\n",
    "else:\n",
    "    for ref in refs:\n",
    "        mdenv_r_gen[ref] = np.loadtxt(f'{ref}_mdenv_r.txt')\n",
    "        mdenv_gr_gen[ref] = np.loadtxt(f'{ref}_mdenv_gr.txt')"
   ],
   "metadata": {
    "collapsed": false,
    "pycharm": {
     "name": "#%%\n"
    }
   },
   "execution_count": 16,
   "outputs": [
    {
     "name": "stderr",
     "output_type": "stream",
     "text": [
      "Progress over trajectory:   0%|          | 0/10 [00:00<?, ?it/s]/Users/emiledebruyn/ownCloud/darbeit/MDEnvironment/mdenvironment/time_resolved_rdf/jit/add_distribution_function_time_slice.py:16: NumbaWarning: \u001B[1m\n",
      "Compilation is falling back to object mode WITH looplifting enabled because Function \"_jit_append_grts_general_mic\" failed type inference due to: \u001B[1m\u001B[1m\u001B[1mInvalid use of type(CPUDispatcher(<function _compute_grt_numba at 0x18da4e0d0>)) with parameters (array(float32, 3d, A), array(float32, 1d, C), UniTuple(float64 x 2), int64, bool)\n",
      "\u001B[0m\n",
      "\u001B[0m\u001B[1mDuring: resolving callee type: type(CPUDispatcher(<function _compute_grt_numba at 0x18da4e0d0>))\u001B[0m\n",
      "\u001B[0m\u001B[1mDuring: typing of call at /Users/emiledebruyn/ownCloud/darbeit/MDEnvironment/mdenvironment/time_resolved_rdf/jit/add_distribution_function_time_slice.py (21)\n",
      "\u001B[0m\n",
      "\u001B[1m\n",
      "File \"../../mdenvironment/time_resolved_rdf/jit/add_distribution_function_time_slice.py\", line 21:\u001B[0m\n",
      "\u001B[1mdef _jit_append_grts_general_mic(g_rts, n, xyz, g1, g2, g1_lens, g2_lens, cuvec, cuvol, r_range, nbins, raw_counts):\n",
      "    <source elided>\n",
      "            rt_array = _compute_rt_general_mic(xyz, g1[i][:g1_lens[i]], g2[j][:g2_lens[j]], cuvec)\n",
      "\u001B[1m            g_rts[i, j, n] += _compute_grt_numba(rt_array, cuvol, r_range, nbins, raw_counts)\n",
      "\u001B[0m            \u001B[1m^\u001B[0m\u001B[0m\n",
      "\u001B[0m\n",
      "  @jit(cache=True)\n",
      "/Users/emiledebruyn/ownCloud/darbeit/MDEnvironment/mdenvironment/time_resolved_rdf/jit/add_distribution_function_time_slice.py:16: NumbaWarning: \u001B[1m\n",
      "Compilation is falling back to object mode WITHOUT looplifting enabled because Function \"_jit_append_grts_general_mic\" failed type inference due to: \u001B[1m\u001B[1mCannot determine Numba type of <class 'numba.core.dispatcher.LiftedLoop'>\u001B[0m\n",
      "\u001B[1m\n",
      "File \"../../mdenvironment/time_resolved_rdf/jit/add_distribution_function_time_slice.py\", line 18:\u001B[0m\n",
      "\u001B[1mdef _jit_append_grts_general_mic(g_rts, n, xyz, g1, g2, g1_lens, g2_lens, cuvec, cuvol, r_range, nbins, raw_counts):\n",
      "\u001B[1m    for i in prange(g1.shape[0]):\n",
      "\u001B[0m    \u001B[1m^\u001B[0m\u001B[0m\n",
      "\u001B[0m\u001B[0m\n",
      "  @jit(cache=True)\n",
      "/opt/homebrew/anaconda3/envs/MDEnvironment/lib/python3.9/site-packages/numba/core/object_mode_passes.py:151: NumbaWarning: \u001B[1mFunction \"_jit_append_grts_general_mic\" was compiled in object mode without forceobj=True, but has lifted loops.\n",
      "\u001B[1m\n",
      "File \"../../mdenvironment/time_resolved_rdf/jit/add_distribution_function_time_slice.py\", line 18:\u001B[0m\n",
      "\u001B[1mdef _jit_append_grts_general_mic(g_rts, n, xyz, g1, g2, g1_lens, g2_lens, cuvec, cuvol, r_range, nbins, raw_counts):\n",
      "\u001B[1m    for i in prange(g1.shape[0]):\n",
      "\u001B[0m    \u001B[1m^\u001B[0m\u001B[0m\n",
      "\u001B[0m\n",
      "  warnings.warn(errors.NumbaWarning(warn_msg,\n",
      "/opt/homebrew/anaconda3/envs/MDEnvironment/lib/python3.9/site-packages/numba/core/object_mode_passes.py:161: NumbaDeprecationWarning: \u001B[1m\n",
      "Fall-back from the nopython compilation path to the object mode compilation path has been detected, this is deprecated behaviour.\n",
      "\n",
      "For more information visit https://numba.pydata.org/numba-doc/latest/reference/deprecation.html#deprecation-of-object-mode-fall-back-behaviour-when-using-jit\n",
      "\u001B[1m\n",
      "File \"../../mdenvironment/time_resolved_rdf/jit/add_distribution_function_time_slice.py\", line 18:\u001B[0m\n",
      "\u001B[1mdef _jit_append_grts_general_mic(g_rts, n, xyz, g1, g2, g1_lens, g2_lens, cuvec, cuvol, r_range, nbins, raw_counts):\n",
      "\u001B[1m    for i in prange(g1.shape[0]):\n",
      "\u001B[0m    \u001B[1m^\u001B[0m\u001B[0m\n",
      "\u001B[0m\n",
      "  warnings.warn(errors.NumbaDeprecationWarning(msg,\n",
      "/Users/emiledebruyn/ownCloud/darbeit/MDEnvironment/mdenvironment/time_resolved_rdf/jit/add_distribution_function_time_slice.py:16: NumbaWarning: \u001B[1mCannot cache compiled function \"_jit_append_grts_general_mic\" as it uses lifted code\u001B[0m\n",
      "  @jit(cache=True)\n",
      "/Users/emiledebruyn/ownCloud/darbeit/MDEnvironment/mdenvironment/time_resolved_rdf/jit/add_distribution_function_time_slice.py:16: NumbaWarning: \u001B[1m\n",
      "Compilation is falling back to object mode WITHOUT looplifting enabled because Function \"_jit_append_grts_general_mic\" failed type inference due to: \u001B[1m\u001B[1mnon-precise type pyobject\u001B[0m\n",
      "\u001B[0m\u001B[1mDuring: typing of argument at /Users/emiledebruyn/ownCloud/darbeit/MDEnvironment/mdenvironment/time_resolved_rdf/jit/add_distribution_function_time_slice.py (18)\u001B[0m\n",
      "\u001B[1m\n",
      "File \"../../mdenvironment/time_resolved_rdf/jit/add_distribution_function_time_slice.py\", line 18:\u001B[0m\n",
      "\u001B[1mdef _jit_append_grts_general_mic(g_rts, n, xyz, g1, g2, g1_lens, g2_lens, cuvec, cuvol, r_range, nbins, raw_counts):\n",
      "\u001B[1m    for i in prange(g1.shape[0]):\n",
      "\u001B[0m    \u001B[1m^\u001B[0m\u001B[0m\n",
      "\u001B[0m\n",
      "  @jit(cache=True)\n",
      "/opt/homebrew/anaconda3/envs/MDEnvironment/lib/python3.9/site-packages/numba/core/object_mode_passes.py:151: NumbaWarning: \u001B[1mFunction \"_jit_append_grts_general_mic\" was compiled in object mode without forceobj=True.\n",
      "\u001B[1m\n",
      "File \"../../mdenvironment/time_resolved_rdf/jit/add_distribution_function_time_slice.py\", line 18:\u001B[0m\n",
      "\u001B[1mdef _jit_append_grts_general_mic(g_rts, n, xyz, g1, g2, g1_lens, g2_lens, cuvec, cuvol, r_range, nbins, raw_counts):\n",
      "\u001B[1m    for i in prange(g1.shape[0]):\n",
      "\u001B[0m    \u001B[1m^\u001B[0m\u001B[0m\n",
      "\u001B[0m\n",
      "  warnings.warn(errors.NumbaWarning(warn_msg,\n",
      "/opt/homebrew/anaconda3/envs/MDEnvironment/lib/python3.9/site-packages/numba/core/object_mode_passes.py:161: NumbaDeprecationWarning: \u001B[1m\n",
      "Fall-back from the nopython compilation path to the object mode compilation path has been detected, this is deprecated behaviour.\n",
      "\n",
      "For more information visit https://numba.pydata.org/numba-doc/latest/reference/deprecation.html#deprecation-of-object-mode-fall-back-behaviour-when-using-jit\n",
      "\u001B[1m\n",
      "File \"../../mdenvironment/time_resolved_rdf/jit/add_distribution_function_time_slice.py\", line 18:\u001B[0m\n",
      "\u001B[1mdef _jit_append_grts_general_mic(g_rts, n, xyz, g1, g2, g1_lens, g2_lens, cuvec, cuvol, r_range, nbins, raw_counts):\n",
      "\u001B[1m    for i in prange(g1.shape[0]):\n",
      "\u001B[0m    \u001B[1m^\u001B[0m\u001B[0m\n",
      "\u001B[0m\n",
      "  warnings.warn(errors.NumbaDeprecationWarning(msg,\n",
      "Progress over trajectory: 100%|██████████| 10/10 [05:46<00:00, 34.60s/it]\n",
      "Progress over trajectory: 100%|██████████| 10/10 [00:00<00:00, 11.58it/s]\n",
      "Progress over trajectory: 100%|██████████| 10/10 [00:00<00:00, 11.53it/s]\n"
     ]
    }
   ]
  },
  {
   "cell_type": "markdown",
   "source": [
    "## RDF from MDEnvironment using the `Grt` van Hove function (VHF) method for the distinct part (excluding self-correlation)\n",
    "To check the correct behaviour, at least with respect to the norm, we can put windows of size 1 (frame) over the whole\n",
    "trajectory, thus giving us the static RDF over the whole trajectory."
   ],
   "metadata": {
    "collapsed": false,
    "pycharm": {
     "name": "#%% md\n"
    }
   }
  },
  {
   "cell_type": "code",
   "execution_count": 11,
   "outputs": [
    {
     "name": "stderr",
     "output_type": "stream",
     "text": [
      "Progress over trajectory: 100%|██████████| 200/200 [00:21<00:00,  9.23it/s]\n",
      "Progress over trajectory: 100%|██████████| 200/200 [00:00<00:00, 967.72it/s]\n",
      "Progress over trajectory: 100%|██████████| 200/200 [00:00<00:00, 956.34it/s]\n"
     ]
    }
   ],
   "source": [
    "vhf_r_ortho = {}\n",
    "vhf_gr_ortho = {}\n",
    "if run['MDEnvironment']:\n",
    "    from numba import set_num_threads\n",
    "    set_num_threads(2)\n",
    "    import mdenvironment as mde\n",
    "\n",
    "    for ref in refs:\n",
    "        r, Gs, Gd = mde.vanhove('nacl_box.xtc', groups[ref], groups[sel], pbc='ortho', opt=True, top=top,\n",
    "                              n_windows=200, window_size=1, stride=1, skip=0, r_range=(0.0, r_max), nbins=n_bins)\n",
    "\n",
    "        np.savetxt(f'{ref}_vhf_r.txt', r)\n",
    "        gr = Gd.mean(axis=(0,1,2))\n",
    "        np.savetxt(f'{ref}_vhf_gr.txt', gr)\n",
    "        vhf_r_ortho[ref] = r\n",
    "        vhf_gr_ortho[ref] = gr\n",
    "\n",
    "else:\n",
    "    for ref in refs:\n",
    "        vhf_r_ortho[ref] = np.loadtxt(f'{ref}_vhf_r.txt')\n",
    "        vhf_gr_ortho[ref] = np.loadtxt(f'{ref}_vhf_gr.txt')"
   ],
   "metadata": {
    "collapsed": false,
    "pycharm": {
     "name": "#%%\n"
    }
   }
  },
  {
   "cell_type": "code",
   "source": [
    "vhf_r_gen = {}\n",
    "vhf_gr_gen = {}\n",
    "if run['MDEnvironment']:\n",
    "    from numba import set_num_threads\n",
    "    set_num_threads(2)\n",
    "    import mdenvironment as mde\n",
    "\n",
    "    for ref in refs:\n",
    "        r, Gs, Gd = mde.vanhove('nacl_box.xtc', groups[ref], groups[sel], pbc='general', opt=True, top=top,\n",
    "                              n_windows=200, window_size=1, stride=1, skip=0, r_range=(0.0, r_max), nbins=n_bins)\n",
    "\n",
    "        np.savetxt(f'{ref}_vhf_r.txt', r)\n",
    "        gr = Gd.mean(axis=(0,1,2))\n",
    "        np.savetxt(f'{ref}_vhf_gr.txt', gr)\n",
    "        vhf_r_gen[ref] = r\n",
    "        vhf_gr_gen[ref] = gr\n",
    "\n",
    "else:\n",
    "    for ref in refs:\n",
    "        vhf_r_gen[ref] = np.loadtxt(f'{ref}_vhf_r.txt')\n",
    "        vhf_gr_gen[ref] = np.loadtxt(f'{ref}_vhf_gr.txt')"
   ],
   "metadata": {
    "collapsed": false,
    "pycharm": {
     "name": "#%%\n"
    }
   },
   "execution_count": 12,
   "outputs": [
    {
     "name": "stderr",
     "output_type": "stream",
     "text": [
      "Progress over trajectory: 100%|██████████| 200/200 [06:18<00:00,  1.89s/it]\n",
      "Progress over trajectory: 100%|██████████| 200/200 [00:01<00:00, 188.82it/s]\n",
      "Progress over trajectory: 100%|██████████| 200/200 [00:01<00:00, 190.35it/s]\n"
     ]
    }
   ]
  },
  {
   "cell_type": "markdown",
   "source": [
    "## Plot results and differences\n",
    "We'll see that due to the binning, the values from GROMACS will differ slightly. MDEnvironment's functions should be\n",
    "identical to those given by MDTraj."
   ],
   "metadata": {
    "collapsed": false,
    "pycharm": {
     "name": "#%% md\n"
    }
   }
  },
  {
   "cell_type": "code",
   "execution_count": 18,
   "outputs": [
    {
     "data": {
      "text/plain": "<Figure size 1296x1296 with 3 Axes>",
      "image/png": "[encoded data removed]"
     },
     "metadata": {
      "needs_background": "light"
     },
     "output_type": "display_data"
    }
   ],
   "source": [
    "import matplotlib.pyplot as plt\n",
    "\n",
    "fig, axes = plt.subplots(3, 1, figsize=(18,18), sharex=True, sharey=True)\n",
    "\n",
    "for i, ref in enumerate(refs):\n",
    "    axes[i].set_title(f'{ref}-{sel}')\n",
    "    axes[i].plot(gmx_r[ref], gmx_gr[ref], label=f'GMX', alpha=.75)\n",
    "    axes[i].plot(mdtraj_r[ref], mdtraj_gr[ref], label=f'MDTraj', alpha=.75)\n",
    "    axes[i].plot(mdenv_r_ortho[ref], mdenv_gr_ortho[ref], label=f'MDEnvironment TRRDF ortho', alpha=.75)\n",
    "    axes[i].plot(mdenv_r_ortho[ref], mdenv_gr_ortho[ref], label=f'MDEnvironment TRRDF general', alpha=.75)\n",
    "    axes[i].plot(vhf_r_ortho[ref], vhf_gr_ortho[ref], label=f'MDEnvironment VHF ortho', alpha=.75)\n",
    "    axes[i].plot(vhf_r_gen[ref], vhf_gr_gen[ref], label=f'MDEnvironment VHF general', alpha=.75)\n",
    "    axes[i].legend()"
   ],
   "metadata": {
    "collapsed": false,
    "pycharm": {
     "name": "#%%\n"
    }
   }
  },
  {
   "cell_type": "markdown",
   "source": [
    "## Numerical comparison\n",
    "Let's check if the data is truly identical within numerical precision, or an acceptable deviation."
   ],
   "metadata": {
    "collapsed": false,
    "pycharm": {
     "name": "#%% md\n"
    }
   }
  },
  {
   "cell_type": "code",
   "execution_count": null,
   "outputs": [],
   "source": [
    "def compare_arrays(a, b, rtol=5e-2):\n",
    "    try:\n",
    "        np.testing.assert_allclose(a, b, rtol=rtol)\n",
    "        print(f'All elements match within a relative tolerance of {rtol:.2%}!')\n",
    "    except AssertionError as err:\n",
    "        print(err)"
   ],
   "metadata": {
    "collapsed": false,
    "pycharm": {
     "name": "#%%\n"
    }
   }
  },
  {
   "cell_type": "markdown",
   "source": [
    "### MDTraj vs GROMACS"
   ],
   "metadata": {
    "collapsed": false
   }
  },
  {
   "cell_type": "code",
   "execution_count": null,
   "outputs": [],
   "source": [
    "for ref in refs:\n",
    "    print(f'Comparison for {ref}-{sel} pairs:')\n",
    "    compare_arrays(mdtraj_gr[ref], gmx_gr[ref][1:])\n",
    "    print('\\n')"
   ],
   "metadata": {
    "collapsed": false,
    "pycharm": {
     "name": "#%%\n"
    }
   }
  },
  {
   "cell_type": "markdown",
   "source": [
    "### MDTraj vs TRRDF"
   ],
   "metadata": {
    "collapsed": false
   }
  },
  {
   "cell_type": "code",
   "execution_count": null,
   "outputs": [],
   "source": [
    "for ref in refs:\n",
    "    print(f'Comparison for {ref}-{sel} pairs:')\n",
    "    compare_arrays(mdtraj_gr[ref], mdenv_gr[ref])\n",
    "    print('\\n')"
   ],
   "metadata": {
    "collapsed": false,
    "pycharm": {
     "name": "#%%\n"
    }
   }
  },
  {
   "cell_type": "markdown",
   "source": [
    "### MDTraj vs VHF"
   ],
   "metadata": {
    "collapsed": false
   }
  },
  {
   "cell_type": "code",
   "execution_count": null,
   "outputs": [],
   "source": [
    "for ref in refs:\n",
    "    print(f'Comparison for {ref}-{sel} pairs:')\n",
    "    compare_arrays(mdtraj_gr[ref], vhf_gr[ref])\n",
    "    print('\\n')\n"
   ],
   "metadata": {
    "collapsed": false,
    "pycharm": {
     "name": "#%%\n"
    }
   }
  },
  {
   "cell_type": "markdown",
   "source": [
    "### TRRDF vs VHF"
   ],
   "metadata": {
    "collapsed": false
   }
  },
  {
   "cell_type": "code",
   "execution_count": null,
   "outputs": [],
   "source": [
    "for ref in refs:\n",
    "    print(f'Comparison for {ref}-{sel} pairs:')\n",
    "    compare_arrays(mdenv_gr[ref], vhf_gr[ref], rtol=1e-3)\n",
    "    print('\\n')"
   ],
   "metadata": {
    "collapsed": false,
    "pycharm": {
     "name": "#%%\n"
    }
   }
  },
  {
   "cell_type": "markdown",
   "source": [
    "## Trapezoid integration"
   ],
   "metadata": {
    "collapsed": false
   }
  },
  {
   "cell_type": "code",
   "execution_count": null,
   "outputs": [],
   "source": [
    "def print_trapz(a, name):\n",
    "    print(f'Integral of {name}: {np.trapz(a)}')\n",
    "\n",
    "for ref in refs:\n",
    "    print(f'Comparison for {ref}-{sel} pairs:')\n",
    "    print_trapz(gmx_gr[ref], 'gmx rdf')\n",
    "    print_trapz(mdtraj_gr[ref], 'MDTraj compute_rdf')\n",
    "    print_trapz(mdenv_gr[ref], 'trrdf')\n",
    "    print_trapz(vhf_gr[ref], 'vanhove')\n",
    "    print('\\n')"
   ],
   "metadata": {
    "collapsed": false,
    "pycharm": {
     "name": "#%%\n"
    }
   }
  }
 ],
 "metadata": {
  "kernelspec": {
   "name": "mdenvironment",
   "language": "python",
   "display_name": "MDEnvironment"
  },
  "language_info": {
   "codemirror_mode": {
    "name": "ipython",
    "version": 3
   },
   "file_extension": ".py",
   "mimetype": "text/x-python",
   "name": "python",
   "nbconvert_exporter": "python",
   "pygments_lexer": "ipython3",
   "version": "3.7.5"
  }
 },
 "nbformat": 4,
 "nbformat_minor": 1
}