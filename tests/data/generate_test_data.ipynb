{
 "cells": [
  {
   "cell_type": "markdown",
   "metadata": {
    "pycharm": {
     "name": "#%% md\n"
    }
   },
   "source": [
    "# Generation of analysis data for tests"
   ]
  },
  {
   "cell_type": "code",
   "execution_count": 2,
   "outputs": [
    {
     "name": "stdout",
     "output_type": "stream",
     "text": [
      "Numba version  0.53.1  detected. MDEnvironment will default to optimization using Numba.\n",
      "\n",
      "Numba currently using 4 threads with shared memory! Reduce this number by passing \"numba.set_num_threads(x)\" with an appropriate integer value.\n",
      "\n",
      "GROMACS version used to generate data: 2021.3-MODIFIED\n",
      "MDTraj version used to generate data: 1.9.6\n",
      "MDEnvironment version used to run this notebook: 0.0.1\n"
     ]
    }
   ],
   "source": [
    "import gromacs\n",
    "import mdtraj as md\n",
    "import mdenvironment as mde\n",
    "\n",
    "print(f'GROMACS version used to generate data: {gromacs.release}')\n",
    "print(f'MDTraj version used to generate data: {md.version.full_version}')\n",
    "print(f'MDEnvironment version used to run this notebook: {mde.__version__}')"
   ],
   "metadata": {
    "collapsed": false,
    "pycharm": {
     "name": "#%%\n"
    }
   }
  },
  {
   "cell_type": "code",
   "execution_count": 9,
   "metadata": {
    "pycharm": {
     "name": "#%%\n"
    }
   },
   "outputs": [],
   "source": [
    "infiles = 'nacl_box'\n",
    "refs = ['O', 'NA', 'CL']\n",
    "sel = 'O'\n",
    "n_bins = 120\n",
    "r_max = 1.2  # 2 nm\n",
    "bin_width = r_max / n_bins\n",
    "gmx_rmax = r_max + bin_width / 2\n",
    "\n",
    "run = {\n",
    "    'GROMACS': False,\n",
    "    'MDTraj': False,\n",
    "    'MDEnvironment': False\n",
    "}"
   ]
  },
  {
   "cell_type": "markdown",
   "source": [
    "## GROMACS RDF\n",
    "\n",
    "Run the following command in GROMACS (but here using the GROMACS-wrapper):\n",
    "\n",
    "```bash\n",
    "gmx rdf -f nacl_box -s nacl_box -n nacl_box -o rdf.xvg -ref <reference_group> -sel <selection_group>\n",
    "```"
   ],
   "metadata": {
    "collapsed": false
   }
  },
  {
   "cell_type": "code",
   "execution_count": 2,
   "outputs": [],
   "source": [
    "if run['GROMACS']:\n",
    "    import gromacs\n",
    "    for ref in refs:\n",
    "        %time gromacs.g_rdf('nobackup', f=infiles, s=infiles, n=infiles, ref=ref, sel=sel,\\\n",
    "                o=f'{ref}_rdf.xvg', cut=bin_width/2, rmax=gmx_rmax, bin=bin_width)"
   ],
   "metadata": {
    "collapsed": false,
    "pycharm": {
     "name": "#%%\n"
    }
   }
  },
  {
   "cell_type": "code",
   "execution_count": 3,
   "metadata": {
    "pycharm": {
     "name": "#%%\n"
    }
   },
   "outputs": [
    {
     "data": {
      "text/plain": "          O-O   NA-O   CL-O\nr (nm)                     \n0.00    0.000  0.000  0.000\n0.01    0.000  0.000  0.000\n0.02    0.000  0.000  0.000\n0.03    0.000  0.000  0.000\n0.04    0.000  0.000  0.000\n...       ...    ...    ...\n1.16    1.005  1.041  0.964\n1.17    1.003  1.016  0.995\n1.18    1.003  1.051  1.011\n1.19    1.001  1.042  0.994\n1.20    1.003  1.056  1.010\n\n[121 rows x 3 columns]",
      "text/html": "<div>\n<style scoped>\n    .dataframe tbody tr th:only-of-type {\n        vertical-align: middle;\n    }\n\n    .dataframe tbody tr th {\n        vertical-align: top;\n    }\n\n    .dataframe thead th {\n        text-align: right;\n    }\n</style>\n<table border=\"1\" class=\"dataframe\">\n  <thead>\n    <tr style=\"text-align: right;\">\n      <th></th>\n      <th>O-O</th>\n      <th>NA-O</th>\n      <th>CL-O</th>\n    </tr>\n    <tr>\n      <th>r (nm)</th>\n      <th></th>\n      <th></th>\n      <th></th>\n    </tr>\n  </thead>\n  <tbody>\n    <tr>\n      <th>0.00</th>\n      <td>0.000</td>\n      <td>0.000</td>\n      <td>0.000</td>\n    </tr>\n    <tr>\n      <th>0.01</th>\n      <td>0.000</td>\n      <td>0.000</td>\n      <td>0.000</td>\n    </tr>\n    <tr>\n      <th>0.02</th>\n      <td>0.000</td>\n      <td>0.000</td>\n      <td>0.000</td>\n    </tr>\n    <tr>\n      <th>0.03</th>\n      <td>0.000</td>\n      <td>0.000</td>\n      <td>0.000</td>\n    </tr>\n    <tr>\n      <th>0.04</th>\n      <td>0.000</td>\n      <td>0.000</td>\n      <td>0.000</td>\n    </tr>\n    <tr>\n      <th>...</th>\n      <td>...</td>\n      <td>...</td>\n      <td>...</td>\n    </tr>\n    <tr>\n      <th>1.16</th>\n      <td>1.005</td>\n      <td>1.041</td>\n      <td>0.964</td>\n    </tr>\n    <tr>\n      <th>1.17</th>\n      <td>1.003</td>\n      <td>1.016</td>\n      <td>0.995</td>\n    </tr>\n    <tr>\n      <th>1.18</th>\n      <td>1.003</td>\n      <td>1.051</td>\n      <td>1.011</td>\n    </tr>\n    <tr>\n      <th>1.19</th>\n      <td>1.001</td>\n      <td>1.042</td>\n      <td>0.994</td>\n    </tr>\n    <tr>\n      <th>1.20</th>\n      <td>1.003</td>\n      <td>1.056</td>\n      <td>1.010</td>\n    </tr>\n  </tbody>\n</table>\n<p>121 rows × 3 columns</p>\n</div>"
     },
     "execution_count": 3,
     "metadata": {},
     "output_type": "execute_result"
    }
   ],
   "source": [
    "from gromacs.formats import XVG\n",
    "import pandas as pd\n",
    "\n",
    "gmx_rdfs = []\n",
    "for ref in refs:\n",
    "    rdf_df = XVG(f'{ref}_rdf.xvg').to_df()\n",
    "    rdf_df.rename(columns={sel: f'{ref}-{sel}'}, inplace=True)\n",
    "    rdf_df.set_index('r (nm)', inplace=True)\n",
    "    gmx_rdfs.append(rdf_df)\n",
    "\n",
    "gmx_rdf = pd.concat(gmx_rdfs, axis=1)\n",
    "gmx_rdf"
   ]
  },
  {
   "cell_type": "code",
   "execution_count": 4,
   "outputs": [],
   "source": [
    "import numpy as np\n",
    "\n",
    "gmx_rdf = {\n",
    "    ref: np.loadtxt(f'{ref}_rdf.xvg', comments=['#', '@'], unpack=True) for ref in refs\n",
    "}\n",
    "\n",
    "gmx_r = {\n",
    "    ref: gmx_rdf[ref][0] for ref in refs\n",
    "}\n",
    "\n",
    "gmx_gr = {\n",
    "    ref: gmx_rdf[ref][1] for ref in refs\n",
    "}"
   ],
   "metadata": {
    "collapsed": false,
    "pycharm": {
     "name": "#%%\n"
    }
   }
  },
  {
   "cell_type": "markdown",
   "source": [
    "## RDF using MDTraj\n"
   ],
   "metadata": {
    "collapsed": false
   }
  },
  {
   "cell_type": "code",
   "execution_count": 5,
   "outputs": [],
   "source": [
    "if run['MDTraj'] or run['MDEnvironment']:\n",
    "    import mdtraj as md\n",
    "\n",
    "    top = md.load_topology('nacl_box.gro')\n",
    "    traj = md.load('nacl_box.xtc', top=top)\n",
    "    groups = {g: traj.top.select(f'name {g}') for g in ['O', 'NA', 'CL', 'H']}\n",
    "\n",
    "    pairs = {}\n",
    "    for ref in refs:\n",
    "        pairs[ref] = traj.top.select_pairs(groups[ref], groups[sel])"
   ],
   "metadata": {
    "collapsed": false,
    "pycharm": {
     "name": "#%%\n"
    }
   }
  },
  {
   "cell_type": "code",
   "execution_count": 6,
   "outputs": [],
   "source": [
    "import numpy as np\n",
    "\n",
    "mdtraj_r = {}\n",
    "mdtraj_gr = {}\n",
    "if run['MDTraj']:\n",
    "    for ref in refs:\n",
    "        %time r, gr = md.compute_rdf(traj, pairs=pairs[ref], periodic=True, opt=True, n_bins=n_bins,\\\n",
    "                r_range=(0, r_max))\n",
    "        np.savetxt(f'{ref}_mdtraj_r.txt', r)\n",
    "        np.savetxt(f'{ref}_mdtraj_gr.txt', gr)\n",
    "        mdtraj_r[ref] = r\n",
    "        mdtraj_gr[ref] = gr\n",
    "\n",
    "else:\n",
    "    for ref in refs:\n",
    "        mdtraj_r[ref] = np.loadtxt(f'{ref}_mdtraj_r.txt')\n",
    "        mdtraj_gr[ref] = np.loadtxt(f'{ref}_mdtraj_gr.txt')"
   ],
   "metadata": {
    "collapsed": false,
    "pycharm": {
     "name": "#%%\n"
    }
   }
  },
  {
   "cell_type": "markdown",
   "source": [
    "## RDF from MDEnvironment using the `grt` time-resolved RDF method\n",
    "We'll just average over the time windows to give us the same result as the static RDF over the whole trajectory."
   ],
   "metadata": {
    "collapsed": false,
    "pycharm": {
     "name": "#%% md\n"
    }
   }
  },
  {
   "cell_type": "code",
   "execution_count": 8,
   "outputs": [
    {
     "name": "stdout",
     "output_type": "stream",
     "text": [
      "Numba version  0.53.1  detected. MDEnvironment will default to optimization using Numba.\n",
      "\n",
      "Numba currently using 2 threads with shared memory! Reduce this number by passing \"numba.set_num_threads(x)\" with an appropriate integer value.\n",
      "\n"
     ]
    },
    {
     "name": "stderr",
     "output_type": "stream",
     "text": [
      "Progress over trajectory: 100%|██████████| 10/10 [01:34<00:00,  9.49s/it]\n",
      "Progress over trajectory: 100%|██████████| 10/10 [00:00<00:00, 30.56it/s]\n",
      "Progress over trajectory: 100%|██████████| 10/10 [00:00<00:00, 36.96it/s]\n"
     ]
    }
   ],
   "source": [
    "mdenv_r = {}\n",
    "mdenv_gr = {}\n",
    "if run['MDEnvironment']:\n",
    "    from numba import set_num_threads\n",
    "    set_num_threads(2)\n",
    "    import mdenvironment as mde\n",
    "\n",
    "    for ref in refs:\n",
    "        r, grt = mde.trrdf('nacl_box.xtc', groups[ref], groups[sel], pbc='ortho', opt=True, top=top,\n",
    "                         n_windows=10, window_size=20, stride=1, skip=0, r_range=(0.0, r_max), nbins=n_bins)\n",
    "\n",
    "        np.savetxt(f'{ref}_mdenv_r.txt', r)\n",
    "        gr = grt.mean(axis=(0,1,2))\n",
    "        np.savetxt(f'{ref}_mdenv_gr.txt', gr)\n",
    "        mdenv_r[ref] = r\n",
    "        mdenv_gr[ref] = gr\n",
    "\n",
    "else:\n",
    "    for ref in refs:\n",
    "        mdenv_r = np.loadtxt(f'{ref}_mdenv_r.txt')\n",
    "        mdenv_gr = np.loadtxt(f'{ref}_mdenv_gr.txt')"
   ],
   "metadata": {
    "collapsed": false,
    "pycharm": {
     "name": "#%%\n"
    }
   }
  },
  {
   "cell_type": "markdown",
   "source": [
    "## RDF from MDEnvironment using the `Grt` van Hove function (VHF) method for the distinct part (excluding self-correlation)\n",
    "To check the correct behaviour, at least with respect to the norm, we can put windows of size 1 (frame) over the whole\n",
    "trajectory, thus giving us the static RDF over the whole trajectory."
   ],
   "metadata": {
    "collapsed": false,
    "pycharm": {
     "name": "#%% md\n"
    }
   }
  },
  {
   "cell_type": "code",
   "execution_count": 11,
   "outputs": [
    {
     "name": "stderr",
     "output_type": "stream",
     "text": [
      "Progress over trajectory: 100%|██████████| 200/200 [00:22<00:00,  8.75it/s]\n",
      "Progress over trajectory: 100%|██████████| 200/200 [00:00<00:00, 503.91it/s]\n",
      "Progress over trajectory: 100%|██████████| 200/200 [00:00<00:00, 485.21it/s]\n"
     ]
    }
   ],
   "source": [
    "vhf_r = {}\n",
    "vhf_gr = {}\n",
    "if run['MDEnvironment']:\n",
    "    from numba import set_num_threads\n",
    "    set_num_threads(2)\n",
    "    import mdenvironment as mde\n",
    "\n",
    "    for ref in refs:\n",
    "        r, grt = mde.vanhove('nacl_box.xtc', groups[ref], groups[sel], pbc='ortho', opt=True, top=top,\n",
    "                              n_windows=200, window_size=1, stride=1, skip=0, r_range=(0.0, r_max), nbins=n_bins)\n",
    "\n",
    "        np.savetxt(f'{ref}_vhf_r.txt', r)\n",
    "        gr = grt.mean(axis=(0,1,2))\n",
    "        np.savetxt(f'{ref}_vhf_gr.txt', gr)\n",
    "        vhf_r[ref] = r\n",
    "        vhf_gr[ref] = gr\n",
    "\n",
    "else:\n",
    "    for ref in refs:\n",
    "        vhf_r[ref] = np.loadtxt(f'{ref}_vhf_r.txt')\n",
    "        vhf_gr[ref] = np.loadtxt(f'{ref}_vhf_gr.txt')"
   ],
   "metadata": {
    "collapsed": false,
    "pycharm": {
     "name": "#%%\n"
    }
   }
  },
  {
   "cell_type": "markdown",
   "source": [
    "## Plot results and differences\n",
    "We'll see that due to the binning, the values from GROMACS will differ slightly. MDEnvironment's functions should be\n",
    "identical to those given by MDTraj."
   ],
   "metadata": {
    "collapsed": false,
    "pycharm": {
     "name": "#%% md\n"
    }
   }
  },
  {
   "cell_type": "code",
   "execution_count": 7,
   "outputs": [
    {
     "ename": "NameError",
     "evalue": "name 'mdenv_r' is not defined",
     "output_type": "error",
     "traceback": [
      "\u001B[0;31m---------------------------------------------------------------------------\u001B[0m",
      "\u001B[0;31mNameError\u001B[0m                                 Traceback (most recent call last)",
      "\u001B[0;32m/tmp/ipykernel_12864/1360187646.py\u001B[0m in \u001B[0;36m<module>\u001B[0;34m\u001B[0m\n\u001B[1;32m      7\u001B[0m     \u001B[0maxes\u001B[0m\u001B[0;34m[\u001B[0m\u001B[0mi\u001B[0m\u001B[0;34m]\u001B[0m\u001B[0;34m.\u001B[0m\u001B[0mplot\u001B[0m\u001B[0;34m(\u001B[0m\u001B[0mgmx_r\u001B[0m\u001B[0;34m[\u001B[0m\u001B[0mref\u001B[0m\u001B[0;34m]\u001B[0m\u001B[0;34m,\u001B[0m \u001B[0mgmx_gr\u001B[0m\u001B[0;34m[\u001B[0m\u001B[0mref\u001B[0m\u001B[0;34m]\u001B[0m\u001B[0;34m,\u001B[0m \u001B[0mlabel\u001B[0m\u001B[0;34m=\u001B[0m\u001B[0;34mf'GMX'\u001B[0m\u001B[0;34m,\u001B[0m \u001B[0malpha\u001B[0m\u001B[0;34m=\u001B[0m\u001B[0;36m.5\u001B[0m\u001B[0;34m)\u001B[0m\u001B[0;34m\u001B[0m\u001B[0;34m\u001B[0m\u001B[0m\n\u001B[1;32m      8\u001B[0m     \u001B[0maxes\u001B[0m\u001B[0;34m[\u001B[0m\u001B[0mi\u001B[0m\u001B[0;34m]\u001B[0m\u001B[0;34m.\u001B[0m\u001B[0mplot\u001B[0m\u001B[0;34m(\u001B[0m\u001B[0mmdtraj_r\u001B[0m\u001B[0;34m[\u001B[0m\u001B[0mref\u001B[0m\u001B[0;34m]\u001B[0m\u001B[0;34m,\u001B[0m \u001B[0mmdtraj_gr\u001B[0m\u001B[0;34m[\u001B[0m\u001B[0mref\u001B[0m\u001B[0;34m]\u001B[0m\u001B[0;34m,\u001B[0m \u001B[0mlabel\u001B[0m\u001B[0;34m=\u001B[0m\u001B[0;34mf'MDTraj'\u001B[0m\u001B[0;34m,\u001B[0m \u001B[0malpha\u001B[0m\u001B[0;34m=\u001B[0m\u001B[0;36m.5\u001B[0m\u001B[0;34m)\u001B[0m\u001B[0;34m\u001B[0m\u001B[0;34m\u001B[0m\u001B[0m\n\u001B[0;32m----> 9\u001B[0;31m     \u001B[0maxes\u001B[0m\u001B[0;34m[\u001B[0m\u001B[0mi\u001B[0m\u001B[0;34m]\u001B[0m\u001B[0;34m.\u001B[0m\u001B[0mplot\u001B[0m\u001B[0;34m(\u001B[0m\u001B[0mmdenv_r\u001B[0m\u001B[0;34m[\u001B[0m\u001B[0mref\u001B[0m\u001B[0;34m]\u001B[0m\u001B[0;34m,\u001B[0m \u001B[0mmdenv_gr\u001B[0m\u001B[0;34m[\u001B[0m\u001B[0mref\u001B[0m\u001B[0;34m]\u001B[0m\u001B[0;34m,\u001B[0m \u001B[0mlabel\u001B[0m\u001B[0;34m=\u001B[0m\u001B[0;34mf'MDEnvironment TRRDF'\u001B[0m\u001B[0;34m,\u001B[0m \u001B[0malpha\u001B[0m\u001B[0;34m=\u001B[0m\u001B[0;36m.5\u001B[0m\u001B[0;34m)\u001B[0m\u001B[0;34m\u001B[0m\u001B[0;34m\u001B[0m\u001B[0m\n\u001B[0m\u001B[1;32m     10\u001B[0m     \u001B[0maxes\u001B[0m\u001B[0;34m[\u001B[0m\u001B[0mi\u001B[0m\u001B[0;34m]\u001B[0m\u001B[0;34m.\u001B[0m\u001B[0mplot\u001B[0m\u001B[0;34m(\u001B[0m\u001B[0mvhf_r\u001B[0m\u001B[0;34m[\u001B[0m\u001B[0mref\u001B[0m\u001B[0;34m]\u001B[0m\u001B[0;34m,\u001B[0m \u001B[0mvhf_gr\u001B[0m\u001B[0;34m[\u001B[0m\u001B[0mref\u001B[0m\u001B[0;34m]\u001B[0m\u001B[0;34m,\u001B[0m \u001B[0mlabel\u001B[0m\u001B[0;34m=\u001B[0m\u001B[0;34mf'MDEnvironment VHF'\u001B[0m\u001B[0;34m,\u001B[0m \u001B[0malpha\u001B[0m\u001B[0;34m=\u001B[0m\u001B[0;36m.5\u001B[0m\u001B[0;34m)\u001B[0m\u001B[0;34m\u001B[0m\u001B[0;34m\u001B[0m\u001B[0m\n\u001B[1;32m     11\u001B[0m     \u001B[0maxes\u001B[0m\u001B[0;34m[\u001B[0m\u001B[0mi\u001B[0m\u001B[0;34m]\u001B[0m\u001B[0;34m.\u001B[0m\u001B[0mlegend\u001B[0m\u001B[0;34m(\u001B[0m\u001B[0;34m)\u001B[0m\u001B[0;34m\u001B[0m\u001B[0;34m\u001B[0m\u001B[0m\n",
      "\u001B[0;31mNameError\u001B[0m: name 'mdenv_r' is not defined"
     ]
    },
    {
     "data": {
      "text/plain": "<Figure size 1296x1296 with 3 Axes>",
      "image/png": "[encoded data removed]"
     },
     "metadata": {
      "needs_background": "light"
     },
     "output_type": "display_data"
    }
   ],
   "source": [
    "import matplotlib.pyplot as plt\n",
    "\n",
    "fig, axes = plt.subplots(3, 1, figsize=(18,18), sharex=True, sharey=True)\n",
    "\n",
    "for i, ref in enumerate(refs):\n",
    "    axes[i].set_title(f'{ref}-{sel}')\n",
    "    axes[i].plot(gmx_r[ref], gmx_gr[ref], label=f'GMX', alpha=.5)\n",
    "    axes[i].plot(mdtraj_r[ref], mdtraj_gr[ref], label=f'MDTraj', alpha=.5)\n",
    "    axes[i].plot(mdenv_r[ref], mdenv_gr[ref], label=f'MDEnvironment TRRDF', alpha=.5)\n",
    "    axes[i].plot(vhf_r[ref], vhf_gr[ref], label=f'MDEnvironment VHF', alpha=.5)\n",
    "    axes[i].legend()"
   ],
   "metadata": {
    "collapsed": false,
    "pycharm": {
     "name": "#%%\n"
    }
   }
  },
  {
   "cell_type": "markdown",
   "source": [
    "## Numerical comparison\n",
    "Let's check if the data is truly identical within numerical precision, or an acceptable deviation."
   ],
   "metadata": {
    "collapsed": false,
    "pycharm": {
     "name": "#%% md\n"
    }
   }
  },
  {
   "cell_type": "code",
   "execution_count": 41,
   "outputs": [],
   "source": [
    "def compare_arrays(a, b, rtol=5e-2):\n",
    "    try:\n",
    "        np.testing.assert_allclose(a, b, rtol=rtol)\n",
    "        print(f'All elements match within a relative tolerance of {rtol:.2%}!')\n",
    "    except AssertionError as err:\n",
    "        print(err)"
   ],
   "metadata": {
    "collapsed": false,
    "pycharm": {
     "name": "#%%\n"
    }
   }
  },
  {
   "cell_type": "markdown",
   "source": [
    "### MDTraj vs GROMACS"
   ],
   "metadata": {
    "collapsed": false
   }
  },
  {
   "cell_type": "code",
   "execution_count": 37,
   "outputs": [
    {
     "name": "stdout",
     "output_type": "stream",
     "text": [
      "Comparison for O-O pairs:\n",
      "\n",
      "Not equal to tolerance rtol=0.05, atol=0\n",
      "\n",
      "(shapes (120,), (121,) mismatch)\n",
      " x: array([0.000000e+00, 0.000000e+00, 0.000000e+00, 0.000000e+00,\n",
      "       0.000000e+00, 0.000000e+00, 0.000000e+00, 0.000000e+00,\n",
      "       0.000000e+00, 0.000000e+00, 0.000000e+00, 0.000000e+00,...\n",
      " y: array([0.   , 0.   , 0.   , 0.   , 0.   , 0.   , 0.   , 0.   , 0.   ,\n",
      "       0.   , 0.   , 0.   , 0.   , 0.   , 0.   , 0.   , 0.   , 0.   ,\n",
      "       0.   , 0.   , 0.   , 0.   , 0.   , 0.   , 0.   , 0.005, 0.231,...\n",
      "\n",
      "\n",
      "Comparison for NA-O pairs:\n",
      "\n",
      "Not equal to tolerance rtol=0.05, atol=0\n",
      "\n",
      "(shapes (120,), (121,) mismatch)\n",
      " x: array([0.      , 0.      , 0.      , 0.      , 0.      , 0.      ,\n",
      "       0.      , 0.      , 0.      , 0.      , 0.      , 0.      ,\n",
      "       0.      , 0.      , 0.      , 0.      , 0.      , 0.      ,...\n",
      " y: array([0.   , 0.   , 0.   , 0.   , 0.   , 0.   , 0.   , 0.   , 0.   ,\n",
      "       0.   , 0.   , 0.   , 0.   , 0.   , 0.   , 0.   , 0.   , 0.   ,\n",
      "       0.   , 0.   , 0.   , 0.   , 0.054, 1.523, 5.075, 6.573, 3.82 ,...\n",
      "\n",
      "\n",
      "Comparison for CL-O pairs:\n",
      "\n",
      "Not equal to tolerance rtol=0.05, atol=0\n",
      "\n",
      "(shapes (120,), (121,) mismatch)\n",
      " x: array([0.      , 0.      , 0.      , 0.      , 0.      , 0.      ,\n",
      "       0.      , 0.      , 0.      , 0.      , 0.      , 0.      ,\n",
      "       0.      , 0.      , 0.      , 0.      , 0.      , 0.      ,...\n",
      " y: array([0.   , 0.   , 0.   , 0.   , 0.   , 0.   , 0.   , 0.   , 0.   ,\n",
      "       0.   , 0.   , 0.   , 0.   , 0.   , 0.   , 0.   , 0.   , 0.   ,\n",
      "       0.   , 0.   , 0.   , 0.   , 0.   , 0.   , 0.   , 0.   , 0.   ,...\n",
      "\n",
      "\n"
     ]
    }
   ],
   "source": [
    "for ref in refs:\n",
    "    print(f'Comparison for {ref}-{sel} pairs:')\n",
    "    compare_arrays(mdtraj_gr[ref], gmx_gr[ref][1:])\n",
    "    print('\\n')"
   ],
   "metadata": {
    "collapsed": false,
    "pycharm": {
     "name": "#%%\n"
    }
   }
  },
  {
   "cell_type": "markdown",
   "source": [
    "### MDTraj vs TRRDF"
   ],
   "metadata": {
    "collapsed": false
   }
  },
  {
   "cell_type": "code",
   "execution_count": 38,
   "outputs": [
    {
     "name": "stdout",
     "output_type": "stream",
     "text": [
      "Comparison for O-O pairs:\n",
      "All elements match within a relative tolerance of 5.000%!\n",
      "\n",
      "\n",
      "Comparison for NA-O pairs:\n",
      "All elements match within a relative tolerance of 5.000%!\n",
      "\n",
      "\n",
      "Comparison for CL-O pairs:\n",
      "All elements match within a relative tolerance of 5.000%!\n",
      "\n",
      "\n"
     ]
    }
   ],
   "source": [
    "for ref in refs:\n",
    "    print(f'Comparison for {ref}-{sel} pairs:')\n",
    "    compare_arrays(mdtraj_gr[ref], mdenv_gr[ref])\n",
    "    print('\\n')"
   ],
   "metadata": {
    "collapsed": false,
    "pycharm": {
     "name": "#%%\n"
    }
   }
  },
  {
   "cell_type": "markdown",
   "source": [
    "### MDTraj vs VHF"
   ],
   "metadata": {
    "collapsed": false
   }
  },
  {
   "cell_type": "code",
   "execution_count": 39,
   "outputs": [
    {
     "name": "stdout",
     "output_type": "stream",
     "text": [
      "Comparison for O-O pairs:\n",
      "All elements match within a relative tolerance of 5.000%!\n",
      "\n",
      "\n",
      "Comparison for NA-O pairs:\n",
      "All elements match within a relative tolerance of 5.000%!\n",
      "\n",
      "\n",
      "Comparison for CL-O pairs:\n",
      "All elements match within a relative tolerance of 5.000%!\n",
      "\n",
      "\n"
     ]
    }
   ],
   "source": [
    "for ref in refs:\n",
    "    print(f'Comparison for {ref}-{sel} pairs:')\n",
    "    compare_arrays(mdtraj_gr[ref], vhf_gr[ref])\n",
    "    print('\\n')\n"
   ],
   "metadata": {
    "collapsed": false,
    "pycharm": {
     "name": "#%%\n"
    }
   }
  },
  {
   "cell_type": "markdown",
   "source": [
    "### TRRDF vs VHF"
   ],
   "metadata": {
    "collapsed": false
   }
  },
  {
   "cell_type": "code",
   "execution_count": 42,
   "outputs": [
    {
     "name": "stdout",
     "output_type": "stream",
     "text": [
      "Comparison for O-O pairs:\n",
      "All elements match within a relative tolerance of 0.10%!\n",
      "\n",
      "\n",
      "Comparison for NA-O pairs:\n",
      "All elements match within a relative tolerance of 0.10%!\n",
      "\n",
      "\n",
      "Comparison for CL-O pairs:\n",
      "All elements match within a relative tolerance of 0.10%!\n",
      "\n",
      "\n"
     ]
    }
   ],
   "source": [
    "for ref in refs:\n",
    "    print(f'Comparison for {ref}-{sel} pairs:')\n",
    "    compare_arrays(mdenv_gr[ref], vhf_gr[ref], rtol=1e-3)\n",
    "    print('\\n')"
   ],
   "metadata": {
    "collapsed": false,
    "pycharm": {
     "name": "#%%\n"
    }
   }
  },
  {
   "cell_type": "markdown",
   "source": [
    "## Trapezoid integration"
   ],
   "metadata": {
    "collapsed": false
   }
  },
  {
   "cell_type": "code",
   "execution_count": 43,
   "outputs": [
    {
     "name": "stdout",
     "output_type": "stream",
     "text": [
      "Comparison for O-O pairs:\n",
      "Integral of gmx rdf: 99.5165\n",
      "Integral of MDTraj compute_rdf: 99.05880518436805\n",
      "Integral of trrdf: 99.0126953125\n",
      "Integral of vanhove: 99.01264190673828\n",
      "\n",
      "\n",
      "Comparison for NA-O pairs:\n",
      "Integral of gmx rdf: 110.246\n",
      "Integral of MDTraj compute_rdf: 109.70482941282016\n",
      "Integral of trrdf: 109.48110961914062\n",
      "Integral of vanhove: 109.48100280761719\n",
      "\n",
      "\n",
      "Comparison for CL-O pairs:\n",
      "Integral of gmx rdf: 95.702\n",
      "Integral of MDTraj compute_rdf: 95.21104535199214\n",
      "Integral of trrdf: 95.17133331298828\n",
      "Integral of vanhove: 95.17127227783203\n",
      "\n",
      "\n"
     ]
    }
   ],
   "source": [
    "def print_trapz(a, name):\n",
    "    print(f'Integral of {name}: {np.trapz(a)}')\n",
    "\n",
    "for ref in refs:\n",
    "    print(f'Comparison for {ref}-{sel} pairs:')\n",
    "    print_trapz(gmx_gr[ref], 'gmx rdf')\n",
    "    print_trapz(mdtraj_gr[ref], 'MDTraj compute_rdf')\n",
    "    print_trapz(mdenv_gr[ref], 'trrdf')\n",
    "    print_trapz(vhf_gr[ref], 'vanhove')\n",
    "    print('\\n')\n"
   ],
   "metadata": {
    "collapsed": false,
    "pycharm": {
     "name": "#%%\n"
    }
   }
  }
 ],
 "metadata": {
  "kernelspec": {
   "name": "mdenvironment",
   "language": "python",
   "display_name": "MDEnvironment"
  },
  "language_info": {
   "codemirror_mode": {
    "name": "ipython",
    "version": 3
   },
   "file_extension": ".py",
   "mimetype": "text/x-python",
   "name": "python",
   "nbconvert_exporter": "python",
   "pygments_lexer": "ipython3",
   "version": "3.7.5"
  }
 },
 "nbformat": 4,
 "nbformat_minor": 1
}