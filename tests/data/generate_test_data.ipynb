{
 "cells": [
  {
   "cell_type": "markdown",
   "metadata": {
    "pycharm": {
     "name": "#%% md\n"
    }
   },
   "source": [
    "# Generation of analysis data for tests"
   ]
  },
  {
   "cell_type": "code",
   "execution_count": 1,
   "outputs": [
    {
     "name": "stdout",
     "output_type": "stream",
     "text": [
      "Numba version  0.53.1  detected. MDEnvironment will default to optimization using Numba.\n",
      "\n",
      "Numba currently using 4 threads with shared memory! Reduce this number by passing \"numba.set_num_threads(x)\" with an appropriate integer value.\n",
      "\n",
      "GROMACS version used to generate data: 2021.3-MODIFIED\n",
      "MDTraj version used to generate data: 1.9.6\n",
      "MDEnvironment version used to run this notebook: 0.0.1\n"
     ]
    }
   ],
   "source": [
    "import gromacs\n",
    "import mdtraj as md\n",
    "import mdenvironment as mde\n",
    "\n",
    "print(f'GROMACS version used to generate data: {gromacs.release}')\n",
    "print(f'MDTraj version used to generate data: {md.version.full_version}')\n",
    "print(f'MDEnvironment version used to run this notebook: {mde.__version__}')"
   ],
   "metadata": {
    "collapsed": false,
    "pycharm": {
     "name": "#%%\n"
    }
   }
  },
  {
   "cell_type": "code",
   "execution_count": 2,
   "metadata": {
    "pycharm": {
     "name": "#%%\n"
    }
   },
   "outputs": [],
   "source": [
    "infiles = 'nacl_box'\n",
    "ref = 'O'\n",
    "sel = 'O'\n",
    "n_bins = 120\n",
    "r_max = 1.2  # 2 nm\n",
    "bin_width = r_max / n_bins\n",
    "gmx_rmax = r_max + bin_width / 2\n",
    "\n",
    "run = {\n",
    "    'GROMACS': True,\n",
    "    'MDTraj': True,\n",
    "    'MDEnvironment': True\n",
    "}"
   ]
  },
  {
   "cell_type": "markdown",
   "source": [
    "## GROMACS RDF\n",
    "\n",
    "Run the following command in GROMACS (but here using the GROMACS-wrapper):\n",
    "\n",
    "```bash\n",
    "gmx rdf -f nacl_box -s nacl_box -n nacl_box -o -cn -ref \"O\" -sel \"O\"\n",
    "```"
   ],
   "metadata": {
    "collapsed": false
   }
  },
  {
   "cell_type": "code",
   "execution_count": 3,
   "outputs": [
    {
     "name": "stderr",
     "output_type": "stream",
     "text": [
      "                   :-) GROMACS - gmx rdf, 2021.3-MODIFIED (-:\n",
      "\n",
      "                            GROMACS is written by:\n",
      "     Andrey Alekseenko              Emile Apol              Rossen Apostolov     \n",
      "         Paul Bauer           Herman J.C. Berendsen           Par Bjelkmar       \n",
      "       Christian Blau           Viacheslav Bolnykh             Kevin Boyd        \n",
      "     Aldert van Buuren           Rudi van Drunen             Anton Feenstra      \n",
      "    Gilles Gouaillardet             Alan Gray               Gerrit Groenhof      \n",
      "       Anca Hamuraru            Vincent Hindriksen          M. Eric Irrgang      \n",
      "      Aleksei Iupinov           Christoph Junghans             Joe Jordan        \n",
      "    Dimitrios Karkoulis            Peter Kasson                Jiri Kraus        \n",
      "      Carsten Kutzner              Per Larsson              Justin A. Lemkul     \n",
      "       Viveca Lindahl            Magnus Lundborg             Erik Marklund       \n",
      "        Pascal Merz             Pieter Meulenhoff            Teemu Murtola       \n",
      "        Szilard Pall               Sander Pronk              Roland Schulz       \n",
      "       Michael Shirts            Alexey Shvetsov             Alfons Sijbers      \n",
      "       Peter Tieleman              Jon Vincent              Teemu Virolainen     \n",
      "     Christian Wennberg            Maarten Wolf              Artem Zhmurov       \n",
      "                           and the project leaders:\n",
      "        Mark Abraham, Berk Hess, Erik Lindahl, and David van der Spoel\n",
      "\n",
      "Copyright (c) 1991-2000, University of Groningen, The Netherlands.\n",
      "Copyright (c) 2001-2019, The GROMACS development team at\n",
      "Uppsala University, Stockholm University and\n",
      "the Royal Institute of Technology, Sweden.\n",
      "check out http://www.gromacs.org for more information.\n",
      "\n",
      "GROMACS is free software; you can redistribute it and/or modify it\n",
      "under the terms of the GNU Lesser General Public License\n",
      "as published by the Free Software Foundation; either version 2.1\n",
      "of the License, or (at your option) any later version.\n",
      "\n",
      "GROMACS:      gmx rdf, version 2021.3-MODIFIED\n",
      "Executable:   /usr/local/gromacs/gromacs-plumed/bin/gmx_plumed\n",
      "Data prefix:  /usr/local/gromacs/gromacs-plumed\n",
      "Working dir:  /home/emile/ownCloud/darbeit/MDEnvironment/tests/data\n",
      "Command line:\n",
      "  gmx rdf -o -nobackup -f nacl_box -s nacl_box -n nacl_box -ref O -sel O -cut 0.005 -rmax 1.2049999999999998 -bin 0.01\n",
      "\n",
      "Reading frame     190 time    1.900   "
     ]
    },
    {
     "name": "stdout",
     "output_type": "stream",
     "text": [
      "\n",
      "WARNING: Masses and atomic (Van der Waals) radii will be guessed\n",
      "         based on residue and atom names, since they could not be\n",
      "         definitively assigned from the information in your input\n",
      "         files. These guessed numbers might deviate from the mass\n",
      "         and radius of the atom type. Please check the output\n",
      "         files if necessary.\n",
      "\n",
      "CPU times: user 45.3 ms, sys: 9.67 ms, total: 55 ms\n",
      "Wall time: 13.4 s\n"
     ]
    },
    {
     "name": "stderr",
     "output_type": "stream",
     "text": [
      "Last frame        200 time    2.000   \n",
      "Analyzed 201 frames, last time 2.000\n",
      "\n",
      "GROMACS reminds you: \"We mathematicians are all a bit crazy.\" (Lev Landau)\n",
      "\n"
     ]
    }
   ],
   "source": [
    "if run['GROMACS']:\n",
    "    import gromacs\n",
    "    %time gromacs.g_rdf('o', 'nobackup', f=infiles, s=infiles, n=infiles, ref=ref, sel=sel, cut=bin_width/2, rmax=gmx_rmax, bin=bin_width)"
   ],
   "metadata": {
    "collapsed": false,
    "pycharm": {
     "name": "#%%\n"
    }
   }
  },
  {
   "cell_type": "code",
   "execution_count": 4,
   "metadata": {
    "pycharm": {
     "name": "#%%\n"
    }
   },
   "outputs": [
    {
     "data": {
      "text/plain": "     r (nm)      O\n0      0.00  0.000\n1      0.01  0.000\n2      0.02  0.000\n3      0.03  0.000\n4      0.04  0.000\n..      ...    ...\n116    1.16  1.005\n117    1.17  1.003\n118    1.18  1.003\n119    1.19  1.001\n120    1.20  1.003\n\n[121 rows x 2 columns]",
      "text/html": "<div>\n<style scoped>\n    .dataframe tbody tr th:only-of-type {\n        vertical-align: middle;\n    }\n\n    .dataframe tbody tr th {\n        vertical-align: top;\n    }\n\n    .dataframe thead th {\n        text-align: right;\n    }\n</style>\n<table border=\"1\" class=\"dataframe\">\n  <thead>\n    <tr style=\"text-align: right;\">\n      <th></th>\n      <th>r (nm)</th>\n      <th>O</th>\n    </tr>\n  </thead>\n  <tbody>\n    <tr>\n      <th>0</th>\n      <td>0.00</td>\n      <td>0.000</td>\n    </tr>\n    <tr>\n      <th>1</th>\n      <td>0.01</td>\n      <td>0.000</td>\n    </tr>\n    <tr>\n      <th>2</th>\n      <td>0.02</td>\n      <td>0.000</td>\n    </tr>\n    <tr>\n      <th>3</th>\n      <td>0.03</td>\n      <td>0.000</td>\n    </tr>\n    <tr>\n      <th>4</th>\n      <td>0.04</td>\n      <td>0.000</td>\n    </tr>\n    <tr>\n      <th>...</th>\n      <td>...</td>\n      <td>...</td>\n    </tr>\n    <tr>\n      <th>116</th>\n      <td>1.16</td>\n      <td>1.005</td>\n    </tr>\n    <tr>\n      <th>117</th>\n      <td>1.17</td>\n      <td>1.003</td>\n    </tr>\n    <tr>\n      <th>118</th>\n      <td>1.18</td>\n      <td>1.003</td>\n    </tr>\n    <tr>\n      <th>119</th>\n      <td>1.19</td>\n      <td>1.001</td>\n    </tr>\n    <tr>\n      <th>120</th>\n      <td>1.20</td>\n      <td>1.003</td>\n    </tr>\n  </tbody>\n</table>\n<p>121 rows × 2 columns</p>\n</div>"
     },
     "execution_count": 4,
     "metadata": {},
     "output_type": "execute_result"
    }
   ],
   "source": [
    "from gromacs.formats import XVG\n",
    "\n",
    "gmx_rdf = XVG(f'rdf.xvg').to_df()\n",
    "gmx_rdf"
   ]
  },
  {
   "cell_type": "code",
   "execution_count": 5,
   "outputs": [],
   "source": [
    "import numpy as np\n",
    "\n",
    "gmx_r, gmx_gr = np.loadtxt('rdf.xvg', comments=['#', '@'], unpack=True)"
   ],
   "metadata": {
    "collapsed": false,
    "pycharm": {
     "name": "#%%\n"
    }
   }
  },
  {
   "cell_type": "markdown",
   "source": [
    "## RDF using MDTraj\n"
   ],
   "metadata": {
    "collapsed": false
   }
  },
  {
   "cell_type": "code",
   "execution_count": 6,
   "outputs": [],
   "source": [
    "if run['MDTraj'] or run['MDEnvironment']:\n",
    "    import mdtraj as md\n",
    "\n",
    "    top = md.load_topology('nacl_box.gro')\n",
    "    traj = md.load('nacl_box.xtc', top=top)\n",
    "    groups = {g: traj.top.select(f'name {g}') for g in ['O', 'NA', 'CL', 'H']}\n",
    "\n",
    "    oxygen_pairs = traj.top.select_pairs(groups['O'], groups['O'])"
   ],
   "metadata": {
    "collapsed": false,
    "pycharm": {
     "name": "#%%\n"
    }
   }
  },
  {
   "cell_type": "code",
   "execution_count": 7,
   "outputs": [
    {
     "name": "stdout",
     "output_type": "stream",
     "text": [
      "CPU times: user 8.23 s, sys: 2.35 s, total: 10.6 s\n",
      "Wall time: 12.2 s\n"
     ]
    }
   ],
   "source": [
    "import numpy as np\n",
    "\n",
    "if run['MDTraj']:\n",
    "    %time mdtraj_r, mdtraj_gr = md.compute_rdf(traj, pairs=oxygen_pairs, periodic=True, opt=True, n_bins=n_bins, r_range=(0, r_max))\n",
    "    np.savetxt('mdtraj_r.txt', mdtraj_r)\n",
    "    np.savetxt('mdtraj_gr.txt', mdtraj_gr)\n",
    "\n",
    "else:\n",
    "    mdtraj_r = np.loadtxt('mdtraj_r.txt')\n",
    "    mdtraj_gr = np.loadtxt('mdtraj_gr.txt')"
   ],
   "metadata": {
    "collapsed": false,
    "pycharm": {
     "name": "#%%\n"
    }
   }
  },
  {
   "cell_type": "markdown",
   "source": [
    "## RDF from MDEnvironment using the `grt` time-resolved RDF method\n",
    "We'll just average over the time windows to give us the same result as the static RDF over the whole trajectory."
   ],
   "metadata": {
    "collapsed": false,
    "pycharm": {
     "name": "#%% md\n"
    }
   }
  },
  {
   "cell_type": "code",
   "execution_count": 8,
   "outputs": [
    {
     "name": "stderr",
     "output_type": "stream",
     "text": [
      "Progress over trajectory: 100%|██████████| 10/10 [00:26<00:00,  2.65s/it]\n"
     ]
    }
   ],
   "source": [
    "if run['MDEnvironment']:\n",
    "    from numba import set_num_threads\n",
    "    set_num_threads(2)\n",
    "    import mdenvironment as mde\n",
    "\n",
    "    r, grt = mde.grt('nacl_box.xtc', groups['O'], groups['O'], pbc='ortho', opt=True, top=top,\n",
    "                     n_windows=10, window_size=20, stride=1, skip=0, r_range=(0.0, r_max), nbins=n_bins)\n",
    "\n",
    "    np.savetxt('mdenv_r.txt', r)\n",
    "    gr = grt.mean(axis=(0,1,2))\n",
    "    np.savetxt('mdenv_gr.txt', gr)\n",
    "\n",
    "else:\n",
    "    r = np.loadtxt('mdenv_r.txt')\n",
    "    gr = np.loadtxt('mdenv_gr.txt')"
   ],
   "metadata": {
    "collapsed": false,
    "pycharm": {
     "name": "#%%\n"
    }
   }
  },
  {
   "cell_type": "markdown",
   "source": [
    "## RDF from MDEnvironment using the `Grt` van Hove function (VHF) method for the distinct part (excluding self-correlation)\n",
    "To check the correct behaviour, at least with respect to the norm, we can put windows of size 1 (frame) over the whole\n",
    "trajectory, thus giving us the static RDF over the whole trajectory."
   ],
   "metadata": {
    "collapsed": false,
    "pycharm": {
     "name": "#%% md\n"
    }
   }
  },
  {
   "cell_type": "code",
   "execution_count": 9,
   "outputs": [
    {
     "name": "stderr",
     "output_type": "stream",
     "text": [
      "Progress over trajectory: 100%|██████████| 200/200 [00:28<00:00,  7.03it/s]\n"
     ]
    }
   ],
   "source": [
    "if run['MDEnvironment']:\n",
    "    from numba import set_num_threads\n",
    "    set_num_threads(2)\n",
    "    import mdenvironment as mde\n",
    "\n",
    "    vhf_r, vhf_grt = mde.vanhove('nacl_box.xtc', groups['O'], groups['O'], pbc='ortho', opt=True, top=top,\n",
    "                                 n_windows=200, window_size=1, stride=1, skip=0, r_range=(0.0, r_max), nbins=n_bins)\n",
    "\n",
    "    np.savetxt('vhf_r.txt', vhf_r)\n",
    "    vhf_gr = vhf_grt.mean(axis=(0,1,2))\n",
    "    np.savetxt('vhf_gr.txt', vhf_gr)\n",
    "\n",
    "else:\n",
    "    vhf_r = np.loadtxt('vhf_r.txt')\n",
    "    vhf_gr = np.loadtxt('vhf_gr.txt')"
   ],
   "metadata": {
    "collapsed": false,
    "pycharm": {
     "name": "#%%\n"
    }
   }
  },
  {
   "cell_type": "markdown",
   "source": [
    "## Plot results and differences\n",
    "We'll see that due to the binning, the values from GROMACS will differ slightly. MDEnvironment's functions should be\n",
    "identical to those given by MDTraj."
   ],
   "metadata": {
    "collapsed": false,
    "pycharm": {
     "name": "#%% md\n"
    }
   }
  },
  {
   "cell_type": "code",
   "execution_count": 10,
   "outputs": [
    {
     "data": {
      "text/plain": "<matplotlib.legend.Legend at 0x7f6d77b86150>"
     },
     "execution_count": 10,
     "metadata": {},
     "output_type": "execute_result"
    },
    {
     "data": {
      "text/plain": "<Figure size 1296x864 with 1 Axes>",
      "image/png": "[encoded data removed]"
     },
     "metadata": {
      "needs_background": "light"
     },
     "output_type": "display_data"
    }
   ],
   "source": [
    "import matplotlib.pyplot as plt\n",
    "\n",
    "fig, ax = plt.subplots(figsize=(18,12))\n",
    "\n",
    "ax.plot(gmx_rdf['r (nm)'], gmx_rdf['O'], label='GROMACS')\n",
    "ax.plot(mdtraj_r, mdtraj_gr, label='MDTraj')\n",
    "ax.plot(gmx_rdf['r (nm)'][1:], gmx_rdf['O'][1:] - mdtraj_gr, 'k--', label='diff')\n",
    "ax.plot(r, gr, label='TRRDF')\n",
    "ax.plot(vhf_r, vhf_gr, label='VHF')\n",
    "ax.plot(r, gr - mdtraj_gr, 'b--', label='diff')\n",
    "ax.plot(vhf_r, vhf_gr - mdtraj_gr, 'r--', label='diff')\n",
    "\n",
    "fig.legend()"
   ],
   "metadata": {
    "collapsed": false,
    "pycharm": {
     "name": "#%%\n"
    }
   }
  },
  {
   "cell_type": "markdown",
   "source": [
    "## Numerical comparison\n",
    "Let's check if the data is truly identical within numerical precision, or an acceptable deviation."
   ],
   "metadata": {
    "collapsed": false,
    "pycharm": {
     "name": "#%% md\n"
    }
   }
  },
  {
   "cell_type": "code",
   "execution_count": 11,
   "outputs": [],
   "source": [
    "def compare_arrays(a, b, atol=1e-2):\n",
    "    try:\n",
    "        np.testing.assert_allclose(a, b, atol=1e-2)\n",
    "        print(f'All elements match within absolute tolerance of {atol}!')\n",
    "    except AssertionError as err:\n",
    "        print(err)"
   ],
   "metadata": {
    "collapsed": false,
    "pycharm": {
     "name": "#%%\n"
    }
   }
  },
  {
   "cell_type": "markdown",
   "source": [
    "### MDTraj vs GROMACS"
   ],
   "metadata": {
    "collapsed": false
   }
  },
  {
   "cell_type": "code",
   "execution_count": 12,
   "outputs": [
    {
     "name": "stdout",
     "output_type": "stream",
     "text": [
      "\n",
      "Not equal to tolerance rtol=1e-07, atol=0.01\n",
      "\n",
      "Mismatched elements: 11 / 120 (9.17%)\n",
      "Max absolute difference: 0.83462684\n",
      "Max relative difference: 0.93683134\n",
      " x: array([0.000000e+00, 0.000000e+00, 0.000000e+00, 0.000000e+00,\n",
      "       0.000000e+00, 0.000000e+00, 0.000000e+00, 0.000000e+00,\n",
      "       0.000000e+00, 0.000000e+00, 0.000000e+00, 0.000000e+00,...\n",
      " y: array([0.   , 0.   , 0.   , 0.   , 0.   , 0.   , 0.   , 0.   , 0.   ,\n",
      "       0.   , 0.   , 0.   , 0.   , 0.   , 0.   , 0.   , 0.   , 0.   ,\n",
      "       0.   , 0.   , 0.   , 0.   , 0.   , 0.   , 0.005, 0.231, 1.567,...\n"
     ]
    }
   ],
   "source": [
    "compare_arrays(mdtraj_gr, gmx_rdf['O'][1:])"
   ],
   "metadata": {
    "collapsed": false,
    "pycharm": {
     "name": "#%%\n"
    }
   }
  },
  {
   "cell_type": "markdown",
   "source": [
    "### MDTraj vs TRRDF"
   ],
   "metadata": {
    "collapsed": false
   }
  },
  {
   "cell_type": "code",
   "execution_count": 13,
   "outputs": [
    {
     "name": "stdout",
     "output_type": "stream",
     "text": [
      "All elements match within absolute tolerance of 0.01!\n"
     ]
    }
   ],
   "source": [
    "compare_arrays(mdtraj_gr, gr)"
   ],
   "metadata": {
    "collapsed": false,
    "pycharm": {
     "name": "#%%\n"
    }
   }
  },
  {
   "cell_type": "markdown",
   "source": [
    "### MDTraj vs VHF"
   ],
   "metadata": {
    "collapsed": false
   }
  },
  {
   "cell_type": "code",
   "execution_count": 14,
   "outputs": [
    {
     "name": "stdout",
     "output_type": "stream",
     "text": [
      "All elements match within absolute tolerance of 0.01!\n"
     ]
    }
   ],
   "source": [
    "compare_arrays(mdtraj_gr, vhf_gr)"
   ],
   "metadata": {
    "collapsed": false,
    "pycharm": {
     "name": "#%%\n"
    }
   }
  },
  {
   "cell_type": "markdown",
   "source": [
    "### Using Numpy to load GROMACS xvg data"
   ],
   "metadata": {
    "collapsed": false
   }
  },
  {
   "cell_type": "code",
   "execution_count": 15,
   "outputs": [
    {
     "name": "stdout",
     "output_type": "stream",
     "text": [
      "All elements match within absolute tolerance of 0.01!\n",
      "All elements match within absolute tolerance of 0.01!\n"
     ]
    }
   ],
   "source": [
    "compare_arrays(gmx_rdf['r (nm)'], gmx_r)\n",
    "compare_arrays(gmx_rdf['O'], gmx_gr)"
   ],
   "metadata": {
    "collapsed": false,
    "pycharm": {
     "name": "#%%\n"
    }
   }
  },
  {
   "cell_type": "markdown",
   "source": [
    "## Trapezoid integration"
   ],
   "metadata": {
    "collapsed": false
   }
  },
  {
   "cell_type": "code",
   "execution_count": 16,
   "outputs": [
    {
     "name": "stdout",
     "output_type": "stream",
     "text": [
      "Integral of gmx rdf: 99.5165\n",
      "Integral of MDTraj compute_rdf: 99.05880518436805\n",
      "Integral of MDEnvironment grt: 99.0126953125\n",
      "Integral of MDEnvironment Grt: 99.01264190673828\n"
     ]
    }
   ],
   "source": [
    "def print_trapz(a, name):\n",
    "    print(f'Integral of {name}: {np.trapz(a)}')\n",
    "\n",
    "print_trapz(gmx_rdf['O'], 'gmx rdf')\n",
    "print_trapz(mdtraj_gr, 'MDTraj compute_rdf')\n",
    "print_trapz(gr, 'MDEnvironment grt')\n",
    "print_trapz(vhf_gr, 'vanhove')"
   ],
   "metadata": {
    "collapsed": false,
    "pycharm": {
     "name": "#%%\n"
    }
   }
  }
 ],
 "metadata": {
  "kernelspec": {
   "name": "mdenvironment",
   "language": "python",
   "display_name": "MDEnvironment"
  },
  "language_info": {
   "codemirror_mode": {
    "name": "ipython",
    "version": 3
   },
   "file_extension": ".py",
   "mimetype": "text/x-python",
   "name": "python",
   "nbconvert_exporter": "python",
   "pygments_lexer": "ipython3",
   "version": "3.7.5"
  }
 },
 "nbformat": 4,
 "nbformat_minor": 1
}