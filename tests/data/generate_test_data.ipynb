{
 "cells": [
  {
   "cell_type": "markdown",
   "metadata": {
    "pycharm": {
     "name": "#%% md\n"
    }
   },
   "source": [
    "# Generation of analysis data for tests"
   ]
  },
  {
   "cell_type": "code",
   "execution_count": null,
   "outputs": [],
   "source": [
    "import gromacs\n",
    "import mdtraj as md\n",
    "import speadi as sp\n",
    "\n",
    "sp.NUMBA_THREADS = 8\n",
    "\n",
    "print(f'GROMACS version used to generate data: {gromacs.release}')\n",
    "print(f'MDTraj version used to generate data: {md.version.full_version}')\n",
    "print(f'speadi version used to run this notebook: {sp.__version__}')"
   ],
   "metadata": {
    "collapsed": false,
    "pycharm": {
     "name": "#%%\n"
    }
   }
  },
  {
   "cell_type": "code",
   "execution_count": null,
   "outputs": [],
   "source": [
    "infiles = 'nacl_box'\n",
    "refs = ['O', 'NA', 'CL']\n",
    "sel = 'O'\n",
    "n_bins = 120\n",
    "r_max = 1.2  # 1.2 nm\n",
    "bin_width = r_max / n_bins\n",
    "gmx_rmax = r_max + bin_width / 2"
   ],
   "metadata": {
    "collapsed": false,
    "pycharm": {
     "name": "#%%\n"
    }
   }
  },
  {
   "cell_type": "code",
   "execution_count": null,
   "outputs": [],
   "source": [
    "run = {\n",
    "    'GROMACS': False,\n",
    "    'MDTraj': False,\n",
    "    'speadi': {'TRRDF': False, 'VHF': True}\n",
    "}"
   ],
   "metadata": {
    "collapsed": false,
    "pycharm": {
     "name": "#%%\n"
    }
   }
  },
  {
   "cell_type": "markdown",
   "source": [
    "## GROMACS RDF\n",
    "\n",
    "Run the following command in GROMACS (but here using the GROMACS-wrapper):\n",
    "\n",
    "```bash\n",
    "gmx rdf -f nacl_box -s nacl_box -n nacl_box -o rdf.xvg -ref <reference_group> -sel <selection_group>\n",
    "```"
   ],
   "metadata": {
    "collapsed": false,
    "pycharm": {
     "name": "#%% md\n"
    }
   }
  },
  {
   "cell_type": "code",
   "execution_count": null,
   "outputs": [],
   "source": [
    "if run['GROMACS']:\n",
    "    import gromacs\n",
    "    for ref in refs:\n",
    "        %time gromacs.g_rdf('nobackup', f=infiles, s=infiles, n=infiles, ref=ref, sel=sel,\\\n",
    "                o=f'{ref}_rdf.xvg', cut=bin_width/2, rmax=gmx_rmax, bin=bin_width)"
   ],
   "metadata": {
    "collapsed": false,
    "pycharm": {
     "name": "#%%\n"
    }
   }
  },
  {
   "cell_type": "code",
   "execution_count": null,
   "outputs": [],
   "source": [
    "from gromacs.formats import XVG\n",
    "import pandas as pd\n",
    "\n",
    "gmx_rdfs = []\n",
    "for ref in refs:\n",
    "    rdf_df = XVG(f'{ref}_rdf.xvg').to_df()\n",
    "    rdf_df.rename(columns={sel: f'{ref}-{sel}'}, inplace=True)\n",
    "    rdf_df.set_index('r (nm)', inplace=True)\n",
    "    gmx_rdfs.append(rdf_df)\n",
    "\n",
    "gmx_rdf = pd.concat(gmx_rdfs, axis=1)\n",
    "gmx_rdf"
   ],
   "metadata": {
    "collapsed": false,
    "pycharm": {
     "name": "#%%\n"
    }
   }
  },
  {
   "cell_type": "code",
   "execution_count": null,
   "outputs": [],
   "source": [
    "import numpy as np\n",
    "\n",
    "gmx_rdf = {\n",
    "    ref: np.loadtxt(f'{ref}_rdf.xvg', comments=['#', '@'], unpack=True) for ref in refs\n",
    "}\n",
    "\n",
    "gmx_r = {\n",
    "    ref: gmx_rdf[ref][0] for ref in refs\n",
    "}\n",
    "\n",
    "gmx_gr = {\n",
    "    ref: gmx_rdf[ref][1] for ref in refs\n",
    "}"
   ],
   "metadata": {
    "collapsed": false,
    "pycharm": {
     "name": "#%%\n"
    }
   }
  },
  {
   "cell_type": "markdown",
   "source": [
    "## RDF using MDTraj\n"
   ],
   "metadata": {
    "collapsed": false,
    "pycharm": {
     "name": "#%% md\n"
    }
   }
  },
  {
   "cell_type": "code",
   "execution_count": null,
   "outputs": [],
   "source": [
    "if run['MDTraj'] or run['speadi']:\n",
    "    import mdtraj as md\n",
    "\n",
    "    top = md.load_topology('nacl_box.gro')\n",
    "    traj = md.load('nacl_box.xtc', top=top)\n",
    "    # groups = {g: traj.top.select(f'name {g}') for g in ['O', 'NA', 'CL', 'H']}\n",
    "    groups = {g: traj.top.select(f'name {g}') for g in ['O', 'NA', 'CL']}\n",
    "\n",
    "    pairs = {}\n",
    "    for ref in refs:\n",
    "        pairs[ref] = traj.top.select_pairs(groups[ref], groups[sel])"
   ],
   "metadata": {
    "collapsed": false,
    "pycharm": {
     "name": "#%%\n"
    }
   }
  },
  {
   "cell_type": "code",
   "execution_count": null,
   "outputs": [],
   "source": [
    "import numpy as np\n",
    "\n",
    "mdtraj_r = {}\n",
    "mdtraj_gr = {}\n",
    "if run['MDTraj']:\n",
    "    for ref in refs:\n",
    "        %time r, gr = md.compute_rdf(traj, pairs=pairs[ref], periodic=True, opt=True, n_bins=n_bins,\\\n",
    "                r_range=(0, r_max))\n",
    "        np.savetxt(f'{ref}_mdtraj_r.txt', r)\n",
    "        np.savetxt(f'{ref}_mdtraj_gr.txt', gr)\n",
    "        mdtraj_r[ref] = r\n",
    "        mdtraj_gr[ref] = gr\n",
    "\n",
    "else:\n",
    "    for ref in refs:\n",
    "        mdtraj_r[ref] = np.loadtxt(f'{ref}_mdtraj_r.txt')\n",
    "        mdtraj_gr[ref] = np.loadtxt(f'{ref}_mdtraj_gr.txt')"
   ],
   "metadata": {
    "collapsed": false,
    "pycharm": {
     "name": "#%%\n"
    }
   }
  },
  {
   "cell_type": "markdown",
   "source": [
    "## RDF from speadi using the `grt` time-resolved RDF method\n",
    "We'll just average over the time windows to give us the same result as the static RDF over the whole trajectory."
   ],
   "metadata": {
    "collapsed": false,
    "pycharm": {
     "name": "#%% md\n"
    }
   }
  },
  {
   "cell_type": "code",
   "execution_count": null,
   "outputs": [],
   "source": [
    "speadi_r_ortho = {}\n",
    "speadi_gr_ortho = {}\n",
    "if run['speadi']['TRRDF']:\n",
    "    import speadi as sp\n",
    "    sp.JAX_AVAILABLE = True\n",
    "\n",
    "    for ref in refs:\n",
    "        r, grt = sp.trrdf('nacl_box.xtc', groups[ref], groups[sel], pbc='ortho', top=top,\n",
    "                         n_windows=10, window_size=20, stride=1, skip=0, r_range=(0.0, r_max), nbins=n_bins)\n",
    "\n",
    "        np.savetxt(f'{ref}_speadi_r.txt', r)\n",
    "        gr = grt.mean(axis=(0,1,2))\n",
    "        np.savetxt(f'{ref}_speadi_gr.txt', gr)\n",
    "        speadi_r_ortho[ref] = r\n",
    "        speadi_gr_ortho[ref] = gr\n",
    "\n",
    "else:\n",
    "    for ref in refs:\n",
    "        speadi_r_ortho[ref] = np.loadtxt(f'{ref}_speadi_r.txt')\n",
    "        speadi_gr_ortho[ref] = np.loadtxt(f'{ref}_speadi_gr.txt')"
   ],
   "metadata": {
    "collapsed": false,
    "pycharm": {
     "name": "#%%\n"
    }
   }
  },
  {
   "cell_type": "code",
   "execution_count": null,
   "outputs": [],
   "source": [
    "speadi_r_ortho = {}\n",
    "speadi_gr_ortho = {}\n",
    "if run['speadi']['TRRDF']:\n",
    "    import speadi as sp\n",
    "    sp.JAX_AVAILABLE = False\n",
    "\n",
    "    for ref in refs:\n",
    "        r, grt = sp.trrdf('nacl_box.xtc', groups[ref], groups[sel], pbc='ortho', top=top,\n",
    "                         n_windows=10, window_size=20, stride=1, skip=0, r_range=(0.0, r_max), nbins=n_bins)\n",
    "\n",
    "        np.savetxt(f'{ref}_speadi_r.txt', r)\n",
    "        gr = grt.mean(axis=(0,1,2))\n",
    "        np.savetxt(f'{ref}_speadi_gr.txt', gr)\n",
    "        speadi_r_ortho[ref] = r\n",
    "        speadi_gr_ortho[ref] = gr\n",
    "\n",
    "else:\n",
    "    for ref in refs:\n",
    "        speadi_r_ortho[ref] = np.loadtxt(f'{ref}_speadi_r.txt')\n",
    "        speadi_gr_ortho[ref] = np.loadtxt(f'{ref}_speadi_gr.txt')"
   ],
   "metadata": {
    "collapsed": false,
    "pycharm": {
     "name": "#%%\n"
    }
   }
  },
  {
   "cell_type": "code",
   "execution_count": null,
   "outputs": [],
   "source": [
    "speadi_r_gen = {}\n",
    "speadi_gr_gen = {}\n",
    "if run['speadi']['TRRDF']:\n",
    "    import speadi as sp\n",
    "    sp.JAX_AVAILABLE = True\n",
    "\n",
    "    for ref in refs:\n",
    "        r, grt = sp.trrdf('nacl_box.xtc', groups[ref], groups[sel], pbc='general', top=top,\n",
    "                         n_windows=10, window_size=20, stride=1, skip=0, r_range=(0.0, r_max), nbins=n_bins)\n",
    "\n",
    "        np.savetxt(f'{ref}_speadi_r.txt', r)\n",
    "        gr = grt.mean(axis=(0,1,2))\n",
    "        np.savetxt(f'{ref}_speadi_gr.txt', gr)\n",
    "        speadi_r_gen[ref] = r\n",
    "        speadi_gr_gen[ref] = gr\n",
    "\n",
    "else:\n",
    "    for ref in refs:\n",
    "        speadi_r_gen[ref] = np.loadtxt(f'{ref}_speadi_r.txt')\n",
    "        speadi_gr_gen[ref] = np.loadtxt(f'{ref}_speadi_gr.txt')"
   ],
   "metadata": {
    "collapsed": false,
    "pycharm": {
     "name": "#%%\n"
    }
   }
  },
  {
   "cell_type": "code",
   "execution_count": null,
   "outputs": [],
   "source": [
    "speadi_r_gen = {}\n",
    "speadi_gr_gen = {}\n",
    "if run['speadi']['TRRDF']:\n",
    "    import speadi as sp\n",
    "    sp.JAX_AVAILABLE = False\n",
    "\n",
    "    for ref in refs:\n",
    "        r, grt = sp.trrdf('nacl_box.xtc', groups[ref], groups[sel], pbc='general', top=top,\n",
    "                         n_windows=10, window_size=20, stride=1, skip=0, r_range=(0.0, r_max), nbins=n_bins)\n",
    "\n",
    "        np.savetxt(f'{ref}_speadi_r.txt', r)\n",
    "        gr = grt.mean(axis=(0,1,2))\n",
    "        np.savetxt(f'{ref}_speadi_gr.txt', gr)\n",
    "        speadi_r_gen[ref] = r\n",
    "        speadi_gr_gen[ref] = gr\n",
    "\n",
    "else:\n",
    "    for ref in refs:\n",
    "        speadi_r_gen[ref] = np.loadtxt(f'{ref}_speadi_r.txt')\n",
    "        speadi_gr_gen[ref] = np.loadtxt(f'{ref}_speadi_gr.txt')"
   ],
   "metadata": {
    "collapsed": false,
    "pycharm": {
     "name": "#%%\n"
    }
   }
  },
  {
   "cell_type": "markdown",
   "source": [
    "## RDF from speadi using the `Grt` van Hove function (VHF) method for the distinct part (excluding self-correlation)\n",
    "To check the correct behaviour, at least with respect to the norm, we can put windows of size 1 (frame) over the whole\n",
    "trajectory, thus giving us the static RDF over the whole trajectory."
   ],
   "metadata": {
    "collapsed": false,
    "pycharm": {
     "name": "#%% md\n"
    }
   }
  },
  {
   "cell_type": "code",
   "execution_count": null,
   "outputs": [],
   "source": [
    "vhf_r_ortho = {}\n",
    "vhf_gr_ortho = {}\n",
    "if run['speadi']['VHF']:\n",
    "    import speadi as sp\n",
    "    sp.JAX_AVAILABLE = False\n",
    "\n",
    "    for ref in refs:\n",
    "        r, Gs, Gd = sp.vanhove('nacl_box.xtc', groups[ref], groups[sel], pbc='ortho', top=top,\n",
    "                              n_windows=200, window_size=1, stride=1, skip=0, r_range=(0.0, r_max), nbins=n_bins)\n",
    "\n",
    "        np.savetxt(f'{ref}_vhf_r.txt', r)\n",
    "        gr = Gd.mean(axis=(0,1,2))\n",
    "        np.savetxt(f'{ref}_vhf_gr.txt', gr)\n",
    "        vhf_r_ortho[ref] = r\n",
    "        vhf_gr_ortho[ref] = gr\n",
    "\n",
    "else:\n",
    "    for ref in refs:\n",
    "        vhf_r_ortho[ref] = np.loadtxt(f'{ref}_vhf_r.txt')\n",
    "        vhf_gr_ortho[ref] = np.loadtxt(f'{ref}_vhf_gr.txt')"
   ],
   "metadata": {
    "collapsed": false,
    "pycharm": {
     "name": "#%%\n"
    }
   }
  },
  {
   "cell_type": "code",
   "execution_count": null,
   "outputs": [],
   "source": [
    "vhf_r_gen = {}\n",
    "vhf_gr_gen = {}\n",
    "if run['speadi']['VHF']:\n",
    "    import speadi as sp\n",
    "    sp.JAX_AVAILABLE = True\n",
    "\n",
    "    for ref in refs:\n",
    "        r, Gs, Gd = sp.vanhove('nacl_box.xtc', groups[ref], groups[sel], pbc='general', top=top,\n",
    "                              n_windows=200, window_size=1, stride=1, skip=0, r_range=(0.0, r_max), nbins=n_bins)\n",
    "\n",
    "        np.savetxt(f'{ref}_vhf_r.txt', r)\n",
    "        gr = Gd.mean(axis=(0,1,2))\n",
    "        np.savetxt(f'{ref}_vhf_gr.txt', gr)\n",
    "        vhf_r_gen[ref] = r\n",
    "        vhf_gr_gen[ref] = gr\n",
    "\n",
    "else:\n",
    "    for ref in refs:\n",
    "        vhf_r_gen[ref] = np.loadtxt(f'{ref}_vhf_r.txt')\n",
    "        vhf_gr_gen[ref] = np.loadtxt(f'{ref}_vhf_gr.txt')"
   ],
   "metadata": {
    "collapsed": false,
    "pycharm": {
     "name": "#%%\n"
    }
   }
  },
  {
   "cell_type": "markdown",
   "source": [
    "## Plot results and differences\n",
    "We'll see that due to the binning, the values from GROMACS will differ slightly. speadi's functions should be\n",
    "identical to those given by MDTraj."
   ],
   "metadata": {
    "collapsed": false,
    "pycharm": {
     "name": "#%% md\n"
    }
   }
  },
  {
   "cell_type": "code",
   "execution_count": null,
   "outputs": [],
   "source": [
    "import matplotlib.pyplot as plt\n",
    "\n",
    "fig, axes = plt.subplots(3, 1, figsize=(18,18), sharex=True, sharey=True)\n",
    "\n",
    "for i, ref in enumerate(refs):\n",
    "    axes[i].set_title(f'{ref}-{sel}')\n",
    "    axes[i].plot(gmx_r[ref], gmx_gr[ref], label=f'GMX', alpha=.75)\n",
    "    axes[i].plot(mdtraj_r[ref], mdtraj_gr[ref], label=f'MDTraj', alpha=.75)\n",
    "    axes[i].plot(speadi_r_ortho[ref], speadi_gr_ortho[ref], label=f'speadi TRRDF ortho', alpha=.75)\n",
    "    axes[i].plot(speadi_r_ortho[ref], speadi_gr_ortho[ref], label=f'speadi TRRDF general', alpha=.75)\n",
    "    axes[i].plot(vhf_r_ortho[ref], vhf_gr_ortho[ref], label=f'speadi VHF ortho', alpha=.75)\n",
    "    axes[i].plot(vhf_r_gen[ref], vhf_gr_gen[ref], label=f'speadi VHF general', alpha=.75)\n",
    "    axes[i].legend()"
   ],
   "metadata": {
    "collapsed": false,
    "pycharm": {
     "name": "#%%\n"
    }
   }
  },
  {
   "cell_type": "markdown",
   "source": [
    "## Numerical comparison\n",
    "Let's check if the data is truly identical within numerical precision, or an acceptable deviation."
   ],
   "metadata": {
    "collapsed": false,
    "pycharm": {
     "name": "#%% md\n"
    }
   }
  },
  {
   "cell_type": "code",
   "execution_count": null,
   "outputs": [],
   "source": [
    "def compare_arrays(a, b, rtol=5e-2):\n",
    "    try:\n",
    "        np.testing.assert_allclose(a, b, rtol=rtol)\n",
    "        print(f'All elements match within a relative tolerance of {rtol:.2%}!')\n",
    "    except AssertionError as err:\n",
    "        print(err)"
   ],
   "metadata": {
    "collapsed": false,
    "pycharm": {
     "name": "#%%\n"
    }
   }
  },
  {
   "cell_type": "markdown",
   "source": [
    "### MDTraj vs GROMACS"
   ],
   "metadata": {
    "collapsed": false,
    "pycharm": {
     "name": "#%% md\n"
    }
   }
  },
  {
   "cell_type": "code",
   "execution_count": null,
   "outputs": [],
   "source": [
    "for ref in refs:\n",
    "    print(f'Comparison for {ref}-{sel} pairs:')\n",
    "    compare_arrays(mdtraj_gr[ref], gmx_gr[ref][1:])\n",
    "    print('\\n')"
   ],
   "metadata": {
    "collapsed": false,
    "pycharm": {
     "name": "#%%\n"
    }
   }
  },
  {
   "cell_type": "markdown",
   "source": [
    "### MDTraj vs TRRDF"
   ],
   "metadata": {
    "collapsed": false,
    "pycharm": {
     "name": "#%% md\n"
    }
   }
  },
  {
   "cell_type": "code",
   "execution_count": null,
   "outputs": [],
   "source": [
    "for ref in refs:\n",
    "    print(f'Comparison for {ref}-{sel} pairs:')\n",
    "    compare_arrays(mdtraj_gr[ref], speadi_gr_ortho[ref])\n",
    "    print('\\n')"
   ],
   "metadata": {
    "collapsed": false,
    "pycharm": {
     "name": "#%%\n"
    }
   }
  },
  {
   "cell_type": "markdown",
   "source": [
    "### MDTraj vs VHF"
   ],
   "metadata": {
    "collapsed": false,
    "pycharm": {
     "name": "#%% md\n"
    }
   }
  },
  {
   "cell_type": "code",
   "execution_count": null,
   "outputs": [],
   "source": [
    "for ref in refs:\n",
    "    print(f'Comparison for {ref}-{sel} pairs:')\n",
    "    compare_arrays(mdtraj_gr[ref], vhf_gr_ortho[ref])\n",
    "    print('\\n')\n"
   ],
   "metadata": {
    "collapsed": false,
    "pycharm": {
     "name": "#%%\n"
    }
   }
  },
  {
   "cell_type": "markdown",
   "source": [
    "### TRRDF vs VHF"
   ],
   "metadata": {
    "collapsed": false,
    "pycharm": {
     "name": "#%% md\n"
    }
   }
  },
  {
   "cell_type": "code",
   "execution_count": null,
   "outputs": [],
   "source": [
    "for ref in refs:\n",
    "    print(f'Comparison for {ref}-{sel} pairs:')\n",
    "    compare_arrays(speadi_gr_ortho[ref], vhf_gr_ortho[ref], rtol=1e-3)\n",
    "    print('\\n')"
   ],
   "metadata": {
    "collapsed": false,
    "pycharm": {
     "name": "#%%\n"
    }
   }
  },
  {
   "cell_type": "markdown",
   "source": [
    "## Trapezoid integration"
   ],
   "metadata": {
    "collapsed": false,
    "pycharm": {
     "name": "#%% md\n"
    }
   }
  },
  {
   "cell_type": "code",
   "execution_count": null,
   "outputs": [],
   "source": [
    "def print_trapz(a, name):\n",
    "    print(f'Integral of {name}: {np.trapz(a)}')\n",
    "\n",
    "for ref in refs:\n",
    "    print(f'Comparison for {ref}-{sel} pairs:')\n",
    "    print_trapz(gmx_gr[ref], 'gmx rdf')\n",
    "    print_trapz(mdtraj_gr[ref], 'MDTraj compute_rdf')\n",
    "    print_trapz(speadi_gr_ortho[ref], 'trrdf')\n",
    "    print_trapz(vhf_gr_ortho[ref], 'vanhove')\n",
    "    print('\\n')"
   ],
   "metadata": {
    "collapsed": false,
    "pycharm": {
     "name": "#%%\n"
    }
   }
  },
  {
   "cell_type": "markdown",
   "source": [
    "## Trapezoid integration"
   ],
   "metadata": {
    "collapsed": false,
    "pycharm": {
     "name": "#%% md\n"
    }
   }
  },
  {
   "cell_type": "code",
   "execution_count": null,
   "outputs": [],
   "source": [
    "def print_trapz(a, name):\n",
    "    print(f'Integral of {name}: {np.trapz(a)}')\n",
    "\n",
    "for ref in refs:\n",
    "    print(f'Comparison for {ref}-{sel} pairs:')\n",
    "    print_trapz(gmx_gr[ref], 'gmx rdf')\n",
    "    print_trapz(mdtraj_gr[ref], 'MDTraj compute_rdf')\n",
    "    print_trapz(speadi_gr_ortho[ref], 'trrdf')\n",
    "    print_trapz(vhf_gr_ortho[ref], 'vanhove')\n",
    "    print('\\n')"
   ],
   "metadata": {
    "collapsed": false,
    "pycharm": {
     "name": "#%%\n"
    }
   }
  },
  {
   "cell_type": "markdown",
   "source": [
    "## Trapezoid integration"
   ],
   "metadata": {
    "collapsed": false,
    "pycharm": {
     "name": "#%% md\n"
    }
   }
  },
  {
   "cell_type": "code",
   "execution_count": 26,
   "outputs": [
    {
     "name": "stdout",
     "output_type": "stream",
     "text": [
      "Comparison for O-O pairs:\n",
      "Integral of gmx rdf: 99.5165\n",
      "Integral of MDTraj compute_rdf: 99.05880518436805\n",
      "Integral of trrdf: 99.01271222688956\n",
      "Integral of vanhove: 99.01264953613281\n",
      "\n",
      "\n",
      "Comparison for NA-O pairs:\n",
      "Integral of gmx rdf: 110.247\n",
      "Integral of MDTraj compute_rdf: 109.70482941282016\n",
      "Integral of trrdf: 109.70835468173027\n",
      "Integral of vanhove: 109.70824432373047\n",
      "\n",
      "\n",
      "Comparison for CL-O pairs:\n",
      "Integral of gmx rdf: 95.702\n",
      "Integral of MDTraj compute_rdf: 95.21104535199214\n",
      "Integral of trrdf: 95.21579352021217\n",
      "Integral of vanhove: 95.21572875976562\n"
     ]
    }
   ],
   "source": [
    "def print_trapz(a, name):\n",
    "    print(f'Integral of {name}: {np.trapz(a)}')\n",
    "\n",
    "for ref in refs:\n",
    "    print(f'Comparison for {ref}-{sel} pairs:')\n",
    "    print_trapz(gmx_gr[ref], 'gmx rdf')\n",
    "    print_trapz(mdtraj_gr[ref], 'MDTraj compute_rdf')\n",
    "    print_trapz(speadi_gr_ortho[ref], 'trrdf')\n",
    "    print_trapz(vhf_gr_ortho[ref], 'vanhove')\n",
    "    print('\\n')"
   ],
   "metadata": {
    "collapsed": false,
    "pycharm": {
     "name": "#%%\n"
    }
   }
  }
 ],
 "metadata": {
  "kernelspec": {
   "name": "speadi",
   "language": "python",
   "display_name": "speadi"
  },
  "language_info": {
   "codemirror_mode": {
    "name": "ipython",
    "version": 3
   },
   "file_extension": ".py",
   "mimetype": "text/x-python",
   "name": "python",
   "nbconvert_exporter": "python",
   "pygments_lexer": "ipython3",
   "version": "3.7.5"
  }
 },
 "nbformat": 4,
 "nbformat_minor": 1
}
